{
  "nbformat": 4,
  "nbformat_minor": 0,
  "metadata": {
    "colab": {
      "name": "Mert_HARP_OCR.ipynb",
      "provenance": [],
      "collapsed_sections": [],
      "include_colab_link": true
    },
    "kernelspec": {
      "name": "python3",
      "display_name": "Python 3"
    },
    "language_info": {
      "name": "python"
    }
  },
  "cells": [
    {
      "cell_type": "markdown",
      "metadata": {
        "id": "view-in-github",
        "colab_type": "text"
      },
      "source": [
        "<a href=\"https://colab.research.google.com/github/MertOzer1/Handwritten-Digit-Recognition-/blob/main/OCR%20Algorithm.ipynb\" target=\"_parent\"><img src=\"https://colab.research.google.com/assets/colab-badge.svg\" alt=\"Open In Colab\"/></a>"
      ]
    },
    {
      "cell_type": "code",
      "metadata": {
        "id": "0exVFpnFKpiZ"
      },
      "source": [
        "!git clone https://github.com/mindee/doctr.git"
      ],
      "execution_count": null,
      "outputs": []
    },
    {
      "cell_type": "code",
      "metadata": {
        "id": "afAL4FHxKzjS"
      },
      "source": [
        "!pip install -e doctr/."
      ],
      "execution_count": null,
      "outputs": []
    },
    {
      "cell_type": "code",
      "metadata": {
        "id": "nPn_FMz5L7Lm"
      },
      "source": [
        "!pip install -r doctr/requirements.txt"
      ],
      "execution_count": null,
      "outputs": []
    },
    {
      "cell_type": "code",
      "metadata": {
        "id": "Fatp-0zPLtCR"
      },
      "source": [
        "from doctr.io import DocumentFile\n",
        "from doctr.models import ocr_predictor"
      ],
      "execution_count": null,
      "outputs": []
    },
    {
      "cell_type": "code",
      "metadata": {
        "id": "crvsscVwM5J-"
      },
      "source": [
        "model = ocr_predictor(pretrained=True)\n",
        "#doc = DocumentFile.from_pdf(\"2-4 G.pdf\").as_images() \n",
        "doc = DocumentFile.from_images(\"1.png\")\n",
        "result = model(doc)\n",
        "json_output = result.export()"
      ],
      "execution_count": null,
      "outputs": []
    },
    {
      "cell_type": "code",
      "metadata": {
        "id": "0ABgJEx9KuC_"
      },
      "source": [
        "for w in json_output['pages'][0]['blocks'][0]['lines'][0]['words']:\n",
        "  print(w['value'])"
      ],
      "execution_count": null,
      "outputs": []
    },
    {
      "cell_type": "code",
      "metadata": {
        "id": "-v7mEot_Py5Y"
      },
      "source": [
        "import json\n",
        "with open(\"out.json\",\"w\") as f:\n",
        "  json.dump(json_output,f)"
      ],
      "execution_count": null,
      "outputs": []
    },
    {
      "cell_type": "code",
      "metadata": {
        "id": "A3hnVvEuQ7aD"
      },
      "source": [
        "print('Number of blocks = ', len(json_output['pages'][0]['blocks']))"
      ],
      "execution_count": null,
      "outputs": []
    },
    {
      "cell_type": "code",
      "metadata": {
        "id": "6NLtPnTAQ-eV"
      },
      "source": [
        "print('Number of lines = ', len(json_output['pages'][0]['blocks'][0]['lines']))"
      ],
      "execution_count": null,
      "outputs": []
    },
    {
      "cell_type": "code",
      "metadata": {
        "id": "lmLPWAKiRKEA"
      },
      "source": [
        "print('Number of words = ', len(json_output['pages'][0]['blocks'][0]['lines'][0]['words']))"
      ],
      "execution_count": null,
      "outputs": []
    },
    {
      "cell_type": "code",
      "metadata": {
        "id": "NQa-weGlRM07"
      },
      "source": [
        "#words = []\n",
        "#for w in json_output['pages'][0]['blocks'][0]['lines'][0]['words']:\n",
        "#  word = (w['value'], w['geometry'][0][0], w['geometry'][0][1])\n",
        "#  words.append(word)\n",
        "#  print(w)\n",
        "for i in range(len(json_output['pages'][0]['blocks'])):\n",
        "  for j in range(len(json_output['pages'][0]['blocks'][i][\"lines\"])):\n",
        "    for w in json_output['pages'][0]['blocks'][i]['lines'][j]['words']:\n",
        "      if 'SUYUNAMM' in w['value']:\n",
        "        starting_y = w['geometry'][0][1] # assumes SUYUNAMM comes before all numbers \n",
        "\n",
        "seed_names = [str(s) + '.' for s in range(1,28)]\n",
        "seeds = []\n",
        "words = []\n",
        "\n",
        "for i in range(len(json_output['pages'][0]['blocks'])):\n",
        "  for j in range(len(json_output['pages'][0]['blocks'][i][\"lines\"])):\n",
        "    for w in json_output['pages'][0]['blocks'][i]['lines'][j]['words']: \n",
        "      if w['geometry'][0][1] <= starting_y:\n",
        "        continue\n",
        "\n",
        "      cleanvalue = w[\"value\"].replace(\"g\",\"9\")\n",
        "      cleanvalue = cleanvalue.replace(\"i\",\"1\")\n",
        "      cleanvalue = cleanvalue.replace(\"l\",\"1\")\n",
        "      cleanvalue = cleanvalue.replace(\"I\",\"1\")\n",
        "      cleanvalue = cleanvalue.replace(\"ı\",\"1\")\n",
        "      cleanvalue = cleanvalue.replace(\"s\",\"5\")\n",
        "      cleanvalue = cleanvalue.replace(\"S\",\"5\")\n",
        "      cleanvalue = cleanvalue.replace(\"o\",\"0\")\n",
        "      cleanvalue = cleanvalue.replace(\"O\",\"0\")\n",
        "      cleanvalue = cleanvalue.replace(\"-\",\".\")\n",
        "      cleanvalue = cleanvalue.replace(\"J\",\"1\")\n",
        "      cleanvalue = cleanvalue.replace(\"/\",\"1\")\n",
        "      cleanvalue = cleanvalue.replace(\"(\",\"1\")\n",
        "      \n",
        "\n",
        "      word = (cleanvalue, w['geometry'][0][0], w['geometry'][0][1], w['geometry'][1][1], w['confidence'])\n",
        "      words.append(word)\n",
        "      print(w)\n",
        "\n",
        "      if cleanvalue in seed_names:#  and w['confidence'] > 0.95): #warning \n",
        "        seeds.append(word)"
      ],
      "execution_count": null,
      "outputs": []
    },
    {
      "cell_type": "code",
      "metadata": {
        "id": "fvobFQUPepCT"
      },
      "source": [
        "sorted_words = sorted(words, key = lambda x: x[2])\n",
        "for w in sorted_words:\n",
        "  print(w)"
      ],
      "execution_count": null,
      "outputs": []
    },
    {
      "cell_type": "code",
      "metadata": {
        "id": "pWNKHU7e4ed0"
      },
      "source": [
        "def intersect(ymin1, ymax1, ymin2, ymax2):\n",
        "  return (ymin1 <= ymin2 <= ymax1) or (ymin1 <= ymax2 <= ymax1) or (ymin2 <= ymin1 <= ymax2) or (ymin2 <= ymax1 <= ymax2)\n",
        "\n",
        "skip = []\n",
        "lines = []\n",
        "line = []\n",
        "for s in seeds:\n",
        "  line.append(s)\n",
        "  for w in sorted_words:\n",
        "    if w not in seeds and w not in skip:\n",
        "      if intersect(s[2],s[3], w[2],w[3]):\n",
        "        line.append(w)\n",
        "        skip.append(w)\n",
        "      else:\n",
        "        line.sort(key = lambda x: x[1])\n",
        "        lines.append(line)\n",
        "        line = []\n",
        "        break\n",
        "for line in lines:\n",
        "  print(line)"
      ],
      "execution_count": null,
      "outputs": []
    },
    {
      "cell_type": "code",
      "metadata": {
        "id": "_3HumPxG6Hea"
      },
      "source": [
        "csv_out = open('output.csv', 'w')\n",
        "for line in lines:\n",
        "  for word in line:\n",
        "    csv_out.write(word[0] + ',')\n",
        "  csv_out.write('\\n')\n",
        "csv_out.close()"
      ],
      "execution_count": null,
      "outputs": []
    },
    {
      "cell_type": "code",
      "metadata": {
        "id": "Vvzcs-qNSqU_"
      },
      "source": [
        "!pip install xlsxwriter"
      ],
      "execution_count": null,
      "outputs": []
    },
    {
      "cell_type": "code",
      "metadata": {
        "id": "HCHcpv5YSnTC"
      },
      "source": [
        "from collections import OrderedDict\n",
        "import xlsxwriter"
      ],
      "execution_count": null,
      "outputs": []
    },
    {
      "cell_type": "code",
      "metadata": {
        "id": "G4ypkPTvXu5w"
      },
      "source": [
        "# Open an Excel workbook\n",
        "num=0\n",
        "while True:\n",
        "  try:\n",
        "    file=open(\"test\"+str(num)+\".xlsx\",\"r\")\n",
        "    num+=1\n",
        "  except:\n",
        "    break;\n",
        "workbook = xlsxwriter.Workbook('test'+str(num)+'.xlsx')\n",
        "# Create a sheet\n",
        "worksheet = workbook.add_worksheet('Data')"
      ],
      "execution_count": null,
      "outputs": []
    },
    {
      "cell_type": "code",
      "metadata": {
        "id": "wIIAOncFX2MX"
      },
      "source": [
        "# Set up a format\n",
        "book_format = workbook.add_format(properties={'bold': True, 'font_color': 'red'})"
      ],
      "execution_count": null,
      "outputs": []
    },
    {
      "cell_type": "code",
      "metadata": {
        "id": "iY3_cQvmX70h"
      },
      "source": [
        "# Save the data from the OrderedDict into the excel sheet\n",
        "for row_num in range(len(lines)):\n",
        "    for col_num in range(len(lines[row_num])):\n",
        "        if lines[row_num][col_num][4] < 0.9:\n",
        "            worksheet.write(row_num, col_num, lines[row_num][col_num][0], book_format)\n",
        "        else:\n",
        "            worksheet.write(row_num, col_num, lines[row_num][col_num][0])\n",
        "\n",
        "# Close the workbook\n",
        "workbook.close()"
      ],
      "execution_count": null,
      "outputs": []
    }
  ]
}