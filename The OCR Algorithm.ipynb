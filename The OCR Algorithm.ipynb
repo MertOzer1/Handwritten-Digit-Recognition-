{
  "nbformat": 4,
  "nbformat_minor": 0,
  "metadata": {
    "colab": {
      "name": "Mert_HARP_OCR.ipynb",
      "provenance": [],
      "collapsed_sections": [],
      "include_colab_link": true
    },
    "kernelspec": {
      "name": "python3",
      "display_name": "Python 3"
    },
    "language_info": {
      "name": "python"
    },
    "widgets": {
      "application/vnd.jupyter.widget-state+json": {
        "12bfbda79b5b4530942b7f354e2f824c": {
          "model_module": "@jupyter-widgets/controls",
          "model_name": "HBoxModel",
          "model_module_version": "1.5.0",
          "state": {
            "_view_name": "HBoxView",
            "_dom_classes": [],
            "_model_name": "HBoxModel",
            "_view_module": "@jupyter-widgets/controls",
            "_model_module_version": "1.5.0",
            "_view_count": null,
            "_view_module_version": "1.5.0",
            "box_style": "",
            "layout": "IPY_MODEL_f19cc7251c564f14a3438e0965c3bd53",
            "_model_module": "@jupyter-widgets/controls",
            "children": [
              "IPY_MODEL_44744efa35ee420fa0f56168a87a934e",
              "IPY_MODEL_a4abaf508c9d4b99aa3304f4d220c26e",
              "IPY_MODEL_9469e476dd3e4c65952050d278233231"
            ]
          }
        },
        "f19cc7251c564f14a3438e0965c3bd53": {
          "model_module": "@jupyter-widgets/base",
          "model_name": "LayoutModel",
          "model_module_version": "1.2.0",
          "state": {
            "_view_name": "LayoutView",
            "grid_template_rows": null,
            "right": null,
            "justify_content": null,
            "_view_module": "@jupyter-widgets/base",
            "overflow": null,
            "_model_module_version": "1.2.0",
            "_view_count": null,
            "flex_flow": null,
            "width": null,
            "min_width": null,
            "border": null,
            "align_items": null,
            "bottom": null,
            "_model_module": "@jupyter-widgets/base",
            "top": null,
            "grid_column": null,
            "overflow_y": null,
            "overflow_x": null,
            "grid_auto_flow": null,
            "grid_area": null,
            "grid_template_columns": null,
            "flex": null,
            "_model_name": "LayoutModel",
            "justify_items": null,
            "grid_row": null,
            "max_height": null,
            "align_content": null,
            "visibility": null,
            "align_self": null,
            "height": null,
            "min_height": null,
            "padding": null,
            "grid_auto_rows": null,
            "grid_gap": null,
            "max_width": null,
            "order": null,
            "_view_module_version": "1.2.0",
            "grid_template_areas": null,
            "object_position": null,
            "object_fit": null,
            "grid_auto_columns": null,
            "margin": null,
            "display": null,
            "left": null
          }
        },
        "44744efa35ee420fa0f56168a87a934e": {
          "model_module": "@jupyter-widgets/controls",
          "model_name": "HTMLModel",
          "model_module_version": "1.5.0",
          "state": {
            "_view_name": "HTMLView",
            "style": "IPY_MODEL_614c3311000f478ca4dd15b2c567d164",
            "_dom_classes": [],
            "description": "",
            "_model_name": "HTMLModel",
            "placeholder": "​",
            "_view_module": "@jupyter-widgets/controls",
            "_model_module_version": "1.5.0",
            "value": "",
            "_view_count": null,
            "_view_module_version": "1.5.0",
            "description_tooltip": null,
            "_model_module": "@jupyter-widgets/controls",
            "layout": "IPY_MODEL_bca01da0b92547858d6bdcdc90131480"
          }
        },
        "a4abaf508c9d4b99aa3304f4d220c26e": {
          "model_module": "@jupyter-widgets/controls",
          "model_name": "FloatProgressModel",
          "model_module_version": "1.5.0",
          "state": {
            "_view_name": "ProgressView",
            "style": "IPY_MODEL_cf7ea034fcd64330817c3eb4b77c2509",
            "_dom_classes": [],
            "description": "",
            "_model_name": "FloatProgressModel",
            "bar_style": "success",
            "max": 94178964,
            "_view_module": "@jupyter-widgets/controls",
            "_model_module_version": "1.5.0",
            "value": 94178964,
            "_view_count": null,
            "_view_module_version": "1.5.0",
            "orientation": "horizontal",
            "min": 0,
            "description_tooltip": null,
            "_model_module": "@jupyter-widgets/controls",
            "layout": "IPY_MODEL_318ece411c5045dcac83224bc6977c0d"
          }
        },
        "9469e476dd3e4c65952050d278233231": {
          "model_module": "@jupyter-widgets/controls",
          "model_name": "HTMLModel",
          "model_module_version": "1.5.0",
          "state": {
            "_view_name": "HTMLView",
            "style": "IPY_MODEL_a094941eaee7451a94101853b7b6d63d",
            "_dom_classes": [],
            "description": "",
            "_model_name": "HTMLModel",
            "placeholder": "​",
            "_view_module": "@jupyter-widgets/controls",
            "_model_module_version": "1.5.0",
            "value": " 94179328/? [00:02&lt;00:00, 55973376.88it/s]",
            "_view_count": null,
            "_view_module_version": "1.5.0",
            "description_tooltip": null,
            "_model_module": "@jupyter-widgets/controls",
            "layout": "IPY_MODEL_6ae185f32694440c9b5e1b63133bdd7f"
          }
        },
        "614c3311000f478ca4dd15b2c567d164": {
          "model_module": "@jupyter-widgets/controls",
          "model_name": "DescriptionStyleModel",
          "model_module_version": "1.5.0",
          "state": {
            "_view_name": "StyleView",
            "_model_name": "DescriptionStyleModel",
            "description_width": "",
            "_view_module": "@jupyter-widgets/base",
            "_model_module_version": "1.5.0",
            "_view_count": null,
            "_view_module_version": "1.2.0",
            "_model_module": "@jupyter-widgets/controls"
          }
        },
        "bca01da0b92547858d6bdcdc90131480": {
          "model_module": "@jupyter-widgets/base",
          "model_name": "LayoutModel",
          "model_module_version": "1.2.0",
          "state": {
            "_view_name": "LayoutView",
            "grid_template_rows": null,
            "right": null,
            "justify_content": null,
            "_view_module": "@jupyter-widgets/base",
            "overflow": null,
            "_model_module_version": "1.2.0",
            "_view_count": null,
            "flex_flow": null,
            "width": null,
            "min_width": null,
            "border": null,
            "align_items": null,
            "bottom": null,
            "_model_module": "@jupyter-widgets/base",
            "top": null,
            "grid_column": null,
            "overflow_y": null,
            "overflow_x": null,
            "grid_auto_flow": null,
            "grid_area": null,
            "grid_template_columns": null,
            "flex": null,
            "_model_name": "LayoutModel",
            "justify_items": null,
            "grid_row": null,
            "max_height": null,
            "align_content": null,
            "visibility": null,
            "align_self": null,
            "height": null,
            "min_height": null,
            "padding": null,
            "grid_auto_rows": null,
            "grid_gap": null,
            "max_width": null,
            "order": null,
            "_view_module_version": "1.2.0",
            "grid_template_areas": null,
            "object_position": null,
            "object_fit": null,
            "grid_auto_columns": null,
            "margin": null,
            "display": null,
            "left": null
          }
        },
        "cf7ea034fcd64330817c3eb4b77c2509": {
          "model_module": "@jupyter-widgets/controls",
          "model_name": "ProgressStyleModel",
          "model_module_version": "1.5.0",
          "state": {
            "_view_name": "StyleView",
            "_model_name": "ProgressStyleModel",
            "description_width": "",
            "_view_module": "@jupyter-widgets/base",
            "_model_module_version": "1.5.0",
            "_view_count": null,
            "_view_module_version": "1.2.0",
            "bar_color": null,
            "_model_module": "@jupyter-widgets/controls"
          }
        },
        "318ece411c5045dcac83224bc6977c0d": {
          "model_module": "@jupyter-widgets/base",
          "model_name": "LayoutModel",
          "model_module_version": "1.2.0",
          "state": {
            "_view_name": "LayoutView",
            "grid_template_rows": null,
            "right": null,
            "justify_content": null,
            "_view_module": "@jupyter-widgets/base",
            "overflow": null,
            "_model_module_version": "1.2.0",
            "_view_count": null,
            "flex_flow": null,
            "width": null,
            "min_width": null,
            "border": null,
            "align_items": null,
            "bottom": null,
            "_model_module": "@jupyter-widgets/base",
            "top": null,
            "grid_column": null,
            "overflow_y": null,
            "overflow_x": null,
            "grid_auto_flow": null,
            "grid_area": null,
            "grid_template_columns": null,
            "flex": null,
            "_model_name": "LayoutModel",
            "justify_items": null,
            "grid_row": null,
            "max_height": null,
            "align_content": null,
            "visibility": null,
            "align_self": null,
            "height": null,
            "min_height": null,
            "padding": null,
            "grid_auto_rows": null,
            "grid_gap": null,
            "max_width": null,
            "order": null,
            "_view_module_version": "1.2.0",
            "grid_template_areas": null,
            "object_position": null,
            "object_fit": null,
            "grid_auto_columns": null,
            "margin": null,
            "display": null,
            "left": null
          }
        },
        "a094941eaee7451a94101853b7b6d63d": {
          "model_module": "@jupyter-widgets/controls",
          "model_name": "DescriptionStyleModel",
          "model_module_version": "1.5.0",
          "state": {
            "_view_name": "StyleView",
            "_model_name": "DescriptionStyleModel",
            "description_width": "",
            "_view_module": "@jupyter-widgets/base",
            "_model_module_version": "1.5.0",
            "_view_count": null,
            "_view_module_version": "1.2.0",
            "_model_module": "@jupyter-widgets/controls"
          }
        },
        "6ae185f32694440c9b5e1b63133bdd7f": {
          "model_module": "@jupyter-widgets/base",
          "model_name": "LayoutModel",
          "model_module_version": "1.2.0",
          "state": {
            "_view_name": "LayoutView",
            "grid_template_rows": null,
            "right": null,
            "justify_content": null,
            "_view_module": "@jupyter-widgets/base",
            "overflow": null,
            "_model_module_version": "1.2.0",
            "_view_count": null,
            "flex_flow": null,
            "width": null,
            "min_width": null,
            "border": null,
            "align_items": null,
            "bottom": null,
            "_model_module": "@jupyter-widgets/base",
            "top": null,
            "grid_column": null,
            "overflow_y": null,
            "overflow_x": null,
            "grid_auto_flow": null,
            "grid_area": null,
            "grid_template_columns": null,
            "flex": null,
            "_model_name": "LayoutModel",
            "justify_items": null,
            "grid_row": null,
            "max_height": null,
            "align_content": null,
            "visibility": null,
            "align_self": null,
            "height": null,
            "min_height": null,
            "padding": null,
            "grid_auto_rows": null,
            "grid_gap": null,
            "max_width": null,
            "order": null,
            "_view_module_version": "1.2.0",
            "grid_template_areas": null,
            "object_position": null,
            "object_fit": null,
            "grid_auto_columns": null,
            "margin": null,
            "display": null,
            "left": null
          }
        },
        "dda098f03c914497ba41ac952cb9412d": {
          "model_module": "@jupyter-widgets/controls",
          "model_name": "HBoxModel",
          "model_module_version": "1.5.0",
          "state": {
            "_view_name": "HBoxView",
            "_dom_classes": [],
            "_model_name": "HBoxModel",
            "_view_module": "@jupyter-widgets/controls",
            "_model_module_version": "1.5.0",
            "_view_count": null,
            "_view_module_version": "1.5.0",
            "box_style": "",
            "layout": "IPY_MODEL_e67691b938c54c1295a5d0864b7c2b80",
            "_model_module": "@jupyter-widgets/controls",
            "children": [
              "IPY_MODEL_1f2b5d5b39804c8e840828a098b35c03",
              "IPY_MODEL_30be67526fa94a1ea50abfe54d8529a0",
              "IPY_MODEL_7c89d3458f894c94bb09b350758f5375"
            ]
          }
        },
        "e67691b938c54c1295a5d0864b7c2b80": {
          "model_module": "@jupyter-widgets/base",
          "model_name": "LayoutModel",
          "model_module_version": "1.2.0",
          "state": {
            "_view_name": "LayoutView",
            "grid_template_rows": null,
            "right": null,
            "justify_content": null,
            "_view_module": "@jupyter-widgets/base",
            "overflow": null,
            "_model_module_version": "1.2.0",
            "_view_count": null,
            "flex_flow": null,
            "width": null,
            "min_width": null,
            "border": null,
            "align_items": null,
            "bottom": null,
            "_model_module": "@jupyter-widgets/base",
            "top": null,
            "grid_column": null,
            "overflow_y": null,
            "overflow_x": null,
            "grid_auto_flow": null,
            "grid_area": null,
            "grid_template_columns": null,
            "flex": null,
            "_model_name": "LayoutModel",
            "justify_items": null,
            "grid_row": null,
            "max_height": null,
            "align_content": null,
            "visibility": null,
            "align_self": null,
            "height": null,
            "min_height": null,
            "padding": null,
            "grid_auto_rows": null,
            "grid_gap": null,
            "max_width": null,
            "order": null,
            "_view_module_version": "1.2.0",
            "grid_template_areas": null,
            "object_position": null,
            "object_fit": null,
            "grid_auto_columns": null,
            "margin": null,
            "display": null,
            "left": null
          }
        },
        "1f2b5d5b39804c8e840828a098b35c03": {
          "model_module": "@jupyter-widgets/controls",
          "model_name": "HTMLModel",
          "model_module_version": "1.5.0",
          "state": {
            "_view_name": "HTMLView",
            "style": "IPY_MODEL_91fcc25f2475484e9d8ca2c4e7e4a1fc",
            "_dom_classes": [],
            "description": "",
            "_model_name": "HTMLModel",
            "placeholder": "​",
            "_view_module": "@jupyter-widgets/controls",
            "_model_module_version": "1.5.0",
            "value": "",
            "_view_count": null,
            "_view_module_version": "1.5.0",
            "description_tooltip": null,
            "_model_module": "@jupyter-widgets/controls",
            "layout": "IPY_MODEL_9b1745bb0fda40d680b83e640a6b6776"
          }
        },
        "30be67526fa94a1ea50abfe54d8529a0": {
          "model_module": "@jupyter-widgets/controls",
          "model_name": "FloatProgressModel",
          "model_module_version": "1.5.0",
          "state": {
            "_view_name": "ProgressView",
            "style": "IPY_MODEL_e6038186c01744d6ade88a0bfe56ede4",
            "_dom_classes": [],
            "description": "",
            "_model_name": "FloatProgressModel",
            "bar_style": "success",
            "max": 58758994,
            "_view_module": "@jupyter-widgets/controls",
            "_model_module_version": "1.5.0",
            "value": 58758994,
            "_view_count": null,
            "_view_module_version": "1.5.0",
            "orientation": "horizontal",
            "min": 0,
            "description_tooltip": null,
            "_model_module": "@jupyter-widgets/controls",
            "layout": "IPY_MODEL_8d174819ce56466fbc7a55b715432de7"
          }
        },
        "7c89d3458f894c94bb09b350758f5375": {
          "model_module": "@jupyter-widgets/controls",
          "model_name": "HTMLModel",
          "model_module_version": "1.5.0",
          "state": {
            "_view_name": "HTMLView",
            "style": "IPY_MODEL_f8d2a12163a24fd58e566693ca11846b",
            "_dom_classes": [],
            "description": "",
            "_model_name": "HTMLModel",
            "placeholder": "​",
            "_view_module": "@jupyter-widgets/controls",
            "_model_module_version": "1.5.0",
            "value": " 58759168/? [00:01&lt;00:00, 59523528.26it/s]",
            "_view_count": null,
            "_view_module_version": "1.5.0",
            "description_tooltip": null,
            "_model_module": "@jupyter-widgets/controls",
            "layout": "IPY_MODEL_cb351d4a1af94f769018a4472d672332"
          }
        },
        "91fcc25f2475484e9d8ca2c4e7e4a1fc": {
          "model_module": "@jupyter-widgets/controls",
          "model_name": "DescriptionStyleModel",
          "model_module_version": "1.5.0",
          "state": {
            "_view_name": "StyleView",
            "_model_name": "DescriptionStyleModel",
            "description_width": "",
            "_view_module": "@jupyter-widgets/base",
            "_model_module_version": "1.5.0",
            "_view_count": null,
            "_view_module_version": "1.2.0",
            "_model_module": "@jupyter-widgets/controls"
          }
        },
        "9b1745bb0fda40d680b83e640a6b6776": {
          "model_module": "@jupyter-widgets/base",
          "model_name": "LayoutModel",
          "model_module_version": "1.2.0",
          "state": {
            "_view_name": "LayoutView",
            "grid_template_rows": null,
            "right": null,
            "justify_content": null,
            "_view_module": "@jupyter-widgets/base",
            "overflow": null,
            "_model_module_version": "1.2.0",
            "_view_count": null,
            "flex_flow": null,
            "width": null,
            "min_width": null,
            "border": null,
            "align_items": null,
            "bottom": null,
            "_model_module": "@jupyter-widgets/base",
            "top": null,
            "grid_column": null,
            "overflow_y": null,
            "overflow_x": null,
            "grid_auto_flow": null,
            "grid_area": null,
            "grid_template_columns": null,
            "flex": null,
            "_model_name": "LayoutModel",
            "justify_items": null,
            "grid_row": null,
            "max_height": null,
            "align_content": null,
            "visibility": null,
            "align_self": null,
            "height": null,
            "min_height": null,
            "padding": null,
            "grid_auto_rows": null,
            "grid_gap": null,
            "max_width": null,
            "order": null,
            "_view_module_version": "1.2.0",
            "grid_template_areas": null,
            "object_position": null,
            "object_fit": null,
            "grid_auto_columns": null,
            "margin": null,
            "display": null,
            "left": null
          }
        },
        "e6038186c01744d6ade88a0bfe56ede4": {
          "model_module": "@jupyter-widgets/controls",
          "model_name": "ProgressStyleModel",
          "model_module_version": "1.5.0",
          "state": {
            "_view_name": "StyleView",
            "_model_name": "ProgressStyleModel",
            "description_width": "",
            "_view_module": "@jupyter-widgets/base",
            "_model_module_version": "1.5.0",
            "_view_count": null,
            "_view_module_version": "1.2.0",
            "bar_color": null,
            "_model_module": "@jupyter-widgets/controls"
          }
        },
        "8d174819ce56466fbc7a55b715432de7": {
          "model_module": "@jupyter-widgets/base",
          "model_name": "LayoutModel",
          "model_module_version": "1.2.0",
          "state": {
            "_view_name": "LayoutView",
            "grid_template_rows": null,
            "right": null,
            "justify_content": null,
            "_view_module": "@jupyter-widgets/base",
            "overflow": null,
            "_model_module_version": "1.2.0",
            "_view_count": null,
            "flex_flow": null,
            "width": null,
            "min_width": null,
            "border": null,
            "align_items": null,
            "bottom": null,
            "_model_module": "@jupyter-widgets/base",
            "top": null,
            "grid_column": null,
            "overflow_y": null,
            "overflow_x": null,
            "grid_auto_flow": null,
            "grid_area": null,
            "grid_template_columns": null,
            "flex": null,
            "_model_name": "LayoutModel",
            "justify_items": null,
            "grid_row": null,
            "max_height": null,
            "align_content": null,
            "visibility": null,
            "align_self": null,
            "height": null,
            "min_height": null,
            "padding": null,
            "grid_auto_rows": null,
            "grid_gap": null,
            "max_width": null,
            "order": null,
            "_view_module_version": "1.2.0",
            "grid_template_areas": null,
            "object_position": null,
            "object_fit": null,
            "grid_auto_columns": null,
            "margin": null,
            "display": null,
            "left": null
          }
        },
        "f8d2a12163a24fd58e566693ca11846b": {
          "model_module": "@jupyter-widgets/controls",
          "model_name": "DescriptionStyleModel",
          "model_module_version": "1.5.0",
          "state": {
            "_view_name": "StyleView",
            "_model_name": "DescriptionStyleModel",
            "description_width": "",
            "_view_module": "@jupyter-widgets/base",
            "_model_module_version": "1.5.0",
            "_view_count": null,
            "_view_module_version": "1.2.0",
            "_model_module": "@jupyter-widgets/controls"
          }
        },
        "cb351d4a1af94f769018a4472d672332": {
          "model_module": "@jupyter-widgets/base",
          "model_name": "LayoutModel",
          "model_module_version": "1.2.0",
          "state": {
            "_view_name": "LayoutView",
            "grid_template_rows": null,
            "right": null,
            "justify_content": null,
            "_view_module": "@jupyter-widgets/base",
            "overflow": null,
            "_model_module_version": "1.2.0",
            "_view_count": null,
            "flex_flow": null,
            "width": null,
            "min_width": null,
            "border": null,
            "align_items": null,
            "bottom": null,
            "_model_module": "@jupyter-widgets/base",
            "top": null,
            "grid_column": null,
            "overflow_y": null,
            "overflow_x": null,
            "grid_auto_flow": null,
            "grid_area": null,
            "grid_template_columns": null,
            "flex": null,
            "_model_name": "LayoutModel",
            "justify_items": null,
            "grid_row": null,
            "max_height": null,
            "align_content": null,
            "visibility": null,
            "align_self": null,
            "height": null,
            "min_height": null,
            "padding": null,
            "grid_auto_rows": null,
            "grid_gap": null,
            "max_width": null,
            "order": null,
            "_view_module_version": "1.2.0",
            "grid_template_areas": null,
            "object_position": null,
            "object_fit": null,
            "grid_auto_columns": null,
            "margin": null,
            "display": null,
            "left": null
          }
        }
      }
    }
  },
  "cells": [
    {
      "cell_type": "markdown",
      "metadata": {
        "id": "view-in-github",
        "colab_type": "text"
      },
      "source": [
        "<a href=\"https://colab.research.google.com/github/MertOzer1/Handwritten-Digit-Recognition-/blob/main/The%20OCR%20Algorithm.ipynb\" target=\"_parent\"><img src=\"https://colab.research.google.com/assets/colab-badge.svg\" alt=\"Open In Colab\"/></a>"
      ]
    },
    {
      "cell_type": "code",
      "metadata": {
        "colab": {
          "base_uri": "https://localhost:8080/"
        },
        "id": "0exVFpnFKpiZ",
        "outputId": "c834d338-eb7f-4c6d-e8aa-8243bd1db9f4"
      },
      "source": [
        "!git clone https://github.com/mindee/doctr.git"
      ],
      "execution_count": null,
      "outputs": [
        {
          "output_type": "stream",
          "name": "stdout",
          "text": [
            "Cloning into 'doctr'...\n",
            "remote: Enumerating objects: 18244, done.\u001b[K\n",
            "remote: Counting objects: 100% (2850/2850), done.\u001b[K\n",
            "remote: Compressing objects: 100% (1296/1296), done.\u001b[K\n",
            "remote: Total 18244 (delta 2084), reused 2030 (delta 1434), pack-reused 15394\u001b[K\n",
            "Receiving objects: 100% (18244/18244), 12.02 MiB | 18.54 MiB/s, done.\n",
            "Resolving deltas: 100% (12432/12432), done.\n"
          ]
        }
      ]
    },
    {
      "cell_type": "code",
      "metadata": {
        "colab": {
          "base_uri": "https://localhost:8080/",
          "height": 1000
        },
        "id": "afAL4FHxKzjS",
        "outputId": "e27c7c11-3b74-421c-8177-02b2e5d6a641"
      },
      "source": [
        "!pip install -e doctr/."
      ],
      "execution_count": null,
      "outputs": [
        {
          "output_type": "stream",
          "name": "stdout",
          "text": [
            "Obtaining file:///content/doctr\n",
            "Requirement already satisfied: numpy>=1.16.0 in /usr/local/lib/python3.7/dist-packages (from python-doctr==0.5.0a0) (1.19.5)\n",
            "Requirement already satisfied: scipy>=1.4.0 in /usr/local/lib/python3.7/dist-packages (from python-doctr==0.5.0a0) (1.4.1)\n",
            "Requirement already satisfied: h5py>=3.1.0 in /usr/local/lib/python3.7/dist-packages (from python-doctr==0.5.0a0) (3.1.0)\n",
            "Requirement already satisfied: opencv-python>=3.4.5.20 in /usr/local/lib/python3.7/dist-packages (from python-doctr==0.5.0a0) (4.1.2.30)\n",
            "Collecting PyMuPDF!=1.18.11,!=1.18.12,>=1.16.0\n",
            "  Downloading PyMuPDF-1.19.3-cp37-cp37m-manylinux_2_17_x86_64.manylinux2014_x86_64.whl (8.7 MB)\n",
            "\u001b[K     |████████████████████████████████| 8.7 MB 6.6 MB/s \n",
            "\u001b[?25hCollecting pyclipper>=1.2.0\n",
            "  Downloading pyclipper-1.3.0.post2-cp37-cp37m-manylinux_2_5_x86_64.manylinux1_x86_64.whl (603 kB)\n",
            "\u001b[K     |████████████████████████████████| 603 kB 50.0 MB/s \n",
            "\u001b[?25hRequirement already satisfied: shapely>=1.6.0 in /usr/local/lib/python3.7/dist-packages (from python-doctr==0.5.0a0) (1.8.0)\n",
            "Requirement already satisfied: matplotlib<3.4.3,>=3.1.0 in /usr/local/lib/python3.7/dist-packages (from python-doctr==0.5.0a0) (3.2.2)\n",
            "Collecting mplcursors>=0.3\n",
            "  Downloading mplcursors-0.5.1.tar.gz (88 kB)\n",
            "\u001b[K     |████████████████████████████████| 88 kB 3.9 MB/s \n",
            "\u001b[?25hCollecting weasyprint<53.0,>=52.2\n",
            "  Downloading WeasyPrint-52.5-py3-none-any.whl (365 kB)\n",
            "\u001b[K     |████████████████████████████████| 365 kB 46.3 MB/s \n",
            "\u001b[?25hCollecting unidecode>=1.0.0\n",
            "  Downloading Unidecode-1.3.2-py3-none-any.whl (235 kB)\n",
            "\u001b[K     |████████████████████████████████| 235 kB 57.2 MB/s \n",
            "\u001b[?25hCollecting Pillow>=8.3.2\n",
            "  Downloading Pillow-8.4.0-cp37-cp37m-manylinux_2_17_x86_64.manylinux2014_x86_64.whl (3.1 MB)\n",
            "\u001b[K     |████████████████████████████████| 3.1 MB 44.7 MB/s \n",
            "\u001b[?25hRequirement already satisfied: tqdm>=4.30.0 in /usr/local/lib/python3.7/dist-packages (from python-doctr==0.5.0a0) (4.62.3)\n",
            "Collecting rapidfuzz>=1.6.0\n",
            "  Downloading rapidfuzz-1.9.1-cp37-cp37m-manylinux_2_12_x86_64.manylinux2010_x86_64.whl (893 kB)\n",
            "\u001b[K     |████████████████████████████████| 893 kB 36.0 MB/s \n",
            "\u001b[?25hRequirement already satisfied: importlib_metadata in /usr/local/lib/python3.7/dist-packages (from python-doctr==0.5.0a0) (4.8.2)\n",
            "Requirement already satisfied: cached-property in /usr/local/lib/python3.7/dist-packages (from h5py>=3.1.0->python-doctr==0.5.0a0) (1.5.2)\n",
            "Requirement already satisfied: pyparsing!=2.0.4,!=2.1.2,!=2.1.6,>=2.0.1 in /usr/local/lib/python3.7/dist-packages (from matplotlib<3.4.3,>=3.1.0->python-doctr==0.5.0a0) (3.0.6)\n",
            "Requirement already satisfied: cycler>=0.10 in /usr/local/lib/python3.7/dist-packages (from matplotlib<3.4.3,>=3.1.0->python-doctr==0.5.0a0) (0.11.0)\n",
            "Requirement already satisfied: python-dateutil>=2.1 in /usr/local/lib/python3.7/dist-packages (from matplotlib<3.4.3,>=3.1.0->python-doctr==0.5.0a0) (2.8.2)\n",
            "Requirement already satisfied: kiwisolver>=1.0.1 in /usr/local/lib/python3.7/dist-packages (from matplotlib<3.4.3,>=3.1.0->python-doctr==0.5.0a0) (1.3.2)\n",
            "Requirement already satisfied: six>=1.5 in /usr/local/lib/python3.7/dist-packages (from python-dateutil>=2.1->matplotlib<3.4.3,>=3.1.0->python-doctr==0.5.0a0) (1.15.0)\n",
            "Collecting cssselect2>=0.1\n",
            "  Downloading cssselect2-0.4.1-py3-none-any.whl (13 kB)\n",
            "Requirement already satisfied: setuptools>=39.2.0 in /usr/local/lib/python3.7/dist-packages (from weasyprint<53.0,>=52.2->python-doctr==0.5.0a0) (57.4.0)\n",
            "Requirement already satisfied: html5lib>=0.999999999 in /usr/local/lib/python3.7/dist-packages (from weasyprint<53.0,>=52.2->python-doctr==0.5.0a0) (1.0.1)\n",
            "Collecting Pyphen>=0.9.1\n",
            "  Downloading pyphen-0.11.0-py3-none-any.whl (2.0 MB)\n",
            "\u001b[K     |████████████████████████████████| 2.0 MB 41.2 MB/s \n",
            "\u001b[?25hCollecting CairoSVG>=2.4.0\n",
            "  Downloading CairoSVG-2.5.2-py3-none-any.whl (45 kB)\n",
            "\u001b[K     |████████████████████████████████| 45 kB 3.8 MB/s \n",
            "\u001b[?25hCollecting tinycss2>=1.0.0\n",
            "  Downloading tinycss2-1.1.1-py3-none-any.whl (21 kB)\n",
            "Requirement already satisfied: cffi>=0.6 in /usr/local/lib/python3.7/dist-packages (from weasyprint<53.0,>=52.2->python-doctr==0.5.0a0) (1.15.0)\n",
            "Collecting cairocffi>=0.9.0\n",
            "  Downloading cairocffi-1.3.0.tar.gz (88 kB)\n",
            "\u001b[K     |████████████████████████████████| 88 kB 7.5 MB/s \n",
            "\u001b[?25hRequirement already satisfied: defusedxml in /usr/local/lib/python3.7/dist-packages (from CairoSVG>=2.4.0->weasyprint<53.0,>=52.2->python-doctr==0.5.0a0) (0.7.1)\n",
            "Requirement already satisfied: pycparser in /usr/local/lib/python3.7/dist-packages (from cffi>=0.6->weasyprint<53.0,>=52.2->python-doctr==0.5.0a0) (2.21)\n",
            "Requirement already satisfied: webencodings in /usr/local/lib/python3.7/dist-packages (from cssselect2>=0.1->weasyprint<53.0,>=52.2->python-doctr==0.5.0a0) (0.5.1)\n",
            "Requirement already satisfied: zipp>=0.5 in /usr/local/lib/python3.7/dist-packages (from importlib_metadata->python-doctr==0.5.0a0) (3.6.0)\n",
            "Requirement already satisfied: typing-extensions>=3.6.4 in /usr/local/lib/python3.7/dist-packages (from importlib_metadata->python-doctr==0.5.0a0) (3.10.0.2)\n",
            "Building wheels for collected packages: mplcursors, cairocffi\n",
            "  Building wheel for mplcursors (setup.py) ... \u001b[?25l\u001b[?25hdone\n",
            "  Created wheel for mplcursors: filename=mplcursors-0.5.1-py3-none-any.whl size=20810 sha256=c4bccf585bfeb9da6213ddcae473cddfa000850bc0a152b002f3ff2df05abf64\n",
            "  Stored in directory: /root/.cache/pip/wheels/ae/cd/13/09fe660e3e9d392c7e9b46f202369cd9c2b8dddfb47d5950ef\n",
            "  Building wheel for cairocffi (setup.py) ... \u001b[?25l\u001b[?25hdone\n",
            "  Created wheel for cairocffi: filename=cairocffi-1.3.0-py3-none-any.whl size=89667 sha256=237eef3bbd01559e7421800787f9871d2c56d8d2a277475a6440100c6f09dcd0\n",
            "  Stored in directory: /root/.cache/pip/wheels/4e/ca/e1/5c8a9692a27f639a07c949044bec943f26c81cd53d3805319f\n",
            "Successfully built mplcursors cairocffi\n",
            "Installing collected packages: tinycss2, Pillow, cssselect2, cairocffi, Pyphen, CairoSVG, weasyprint, unidecode, rapidfuzz, PyMuPDF, pyclipper, mplcursors, python-doctr\n",
            "  Attempting uninstall: Pillow\n",
            "    Found existing installation: Pillow 7.1.2\n",
            "    Uninstalling Pillow-7.1.2:\n",
            "      Successfully uninstalled Pillow-7.1.2\n",
            "  Running setup.py develop for python-doctr\n",
            "\u001b[31mERROR: pip's dependency resolver does not currently take into account all the packages that are installed. This behaviour is the source of the following dependency conflicts.\n",
            "albumentations 0.1.12 requires imgaug<0.2.7,>=0.2.5, but you have imgaug 0.2.9 which is incompatible.\u001b[0m\n",
            "Successfully installed CairoSVG-2.5.2 Pillow-8.4.0 PyMuPDF-1.19.3 Pyphen-0.11.0 cairocffi-1.3.0 cssselect2-0.4.1 mplcursors-0.5.1 pyclipper-1.3.0.post2 python-doctr-0.5.0a0 rapidfuzz-1.9.1 tinycss2-1.1.1 unidecode-1.3.2 weasyprint-52.5\n"
          ]
        },
        {
          "output_type": "display_data",
          "data": {
            "application/vnd.colab-display-data+json": {
              "pip_warning": {
                "packages": [
                  "PIL"
                ]
              }
            }
          },
          "metadata": {}
        }
      ]
    },
    {
      "cell_type": "code",
      "metadata": {
        "colab": {
          "base_uri": "https://localhost:8080/"
        },
        "id": "nPn_FMz5L7Lm",
        "outputId": "511b1925-bfc8-4100-c1ce-afafa918a809"
      },
      "source": [
        "!pip install -r doctr/requirements.txt"
      ],
      "execution_count": null,
      "outputs": [
        {
          "output_type": "stream",
          "name": "stdout",
          "text": [
            "Requirement already satisfied: numpy>=1.16.0 in /usr/local/lib/python3.7/dist-packages (from -r doctr/requirements.txt (line 1)) (1.19.5)\n",
            "Requirement already satisfied: scipy>=1.4.0 in /usr/local/lib/python3.7/dist-packages (from -r doctr/requirements.txt (line 2)) (1.4.1)\n",
            "Requirement already satisfied: h5py>=3.1.0 in /usr/local/lib/python3.7/dist-packages (from -r doctr/requirements.txt (line 3)) (3.1.0)\n",
            "Requirement already satisfied: opencv-python>=3.4.5.20 in /usr/local/lib/python3.7/dist-packages (from -r doctr/requirements.txt (line 4)) (4.1.2.30)\n",
            "Requirement already satisfied: PyMuPDF!=1.18.11,!=1.18.12,>=1.16.0 in /usr/local/lib/python3.7/dist-packages (from -r doctr/requirements.txt (line 5)) (1.19.3)\n",
            "Requirement already satisfied: pyclipper>=1.2.0 in /usr/local/lib/python3.7/dist-packages (from -r doctr/requirements.txt (line 6)) (1.3.0.post2)\n",
            "Requirement already satisfied: shapely>=1.6.0 in /usr/local/lib/python3.7/dist-packages (from -r doctr/requirements.txt (line 7)) (1.8.0)\n",
            "Requirement already satisfied: matplotlib<3.4.3,>=3.1.0 in /usr/local/lib/python3.7/dist-packages (from -r doctr/requirements.txt (line 8)) (3.2.2)\n",
            "Requirement already satisfied: mplcursors>=0.3 in /usr/local/lib/python3.7/dist-packages (from -r doctr/requirements.txt (line 9)) (0.5.1)\n",
            "Requirement already satisfied: weasyprint<53.0,>=52.2 in /usr/local/lib/python3.7/dist-packages (from -r doctr/requirements.txt (line 10)) (52.5)\n",
            "Requirement already satisfied: unidecode>=1.0.0 in /usr/local/lib/python3.7/dist-packages (from -r doctr/requirements.txt (line 11)) (1.3.2)\n",
            "Requirement already satisfied: tensorflow>=2.4.0 in /usr/local/lib/python3.7/dist-packages (from -r doctr/requirements.txt (line 12)) (2.7.0)\n",
            "Requirement already satisfied: Pillow>=8.3.2 in /usr/local/lib/python3.7/dist-packages (from -r doctr/requirements.txt (line 13)) (8.4.0)\n",
            "Requirement already satisfied: tqdm>=4.30.0 in /usr/local/lib/python3.7/dist-packages (from -r doctr/requirements.txt (line 14)) (4.62.3)\n",
            "Collecting tensorflow-addons>=0.13.0\n",
            "  Downloading tensorflow_addons-0.15.0-cp37-cp37m-manylinux_2_12_x86_64.manylinux2010_x86_64.whl (1.1 MB)\n",
            "\u001b[K     |████████████████████████████████| 1.1 MB 5.7 MB/s \n",
            "\u001b[?25hRequirement already satisfied: rapidfuzz>=1.6.0 in /usr/local/lib/python3.7/dist-packages (from -r doctr/requirements.txt (line 16)) (1.9.1)\n",
            "Collecting keras<2.7.0\n",
            "  Downloading keras-2.6.0-py2.py3-none-any.whl (1.3 MB)\n",
            "\u001b[K     |████████████████████████████████| 1.3 MB 42.8 MB/s \n",
            "\u001b[?25hRequirement already satisfied: cached-property in /usr/local/lib/python3.7/dist-packages (from h5py>=3.1.0->-r doctr/requirements.txt (line 3)) (1.5.2)\n",
            "Requirement already satisfied: python-dateutil>=2.1 in /usr/local/lib/python3.7/dist-packages (from matplotlib<3.4.3,>=3.1.0->-r doctr/requirements.txt (line 8)) (2.8.2)\n",
            "Requirement already satisfied: pyparsing!=2.0.4,!=2.1.2,!=2.1.6,>=2.0.1 in /usr/local/lib/python3.7/dist-packages (from matplotlib<3.4.3,>=3.1.0->-r doctr/requirements.txt (line 8)) (3.0.6)\n",
            "Requirement already satisfied: cycler>=0.10 in /usr/local/lib/python3.7/dist-packages (from matplotlib<3.4.3,>=3.1.0->-r doctr/requirements.txt (line 8)) (0.11.0)\n",
            "Requirement already satisfied: kiwisolver>=1.0.1 in /usr/local/lib/python3.7/dist-packages (from matplotlib<3.4.3,>=3.1.0->-r doctr/requirements.txt (line 8)) (1.3.2)\n",
            "Requirement already satisfied: CairoSVG>=2.4.0 in /usr/local/lib/python3.7/dist-packages (from weasyprint<53.0,>=52.2->-r doctr/requirements.txt (line 10)) (2.5.2)\n",
            "Requirement already satisfied: cairocffi>=0.9.0 in /usr/local/lib/python3.7/dist-packages (from weasyprint<53.0,>=52.2->-r doctr/requirements.txt (line 10)) (1.3.0)\n",
            "Requirement already satisfied: tinycss2>=1.0.0 in /usr/local/lib/python3.7/dist-packages (from weasyprint<53.0,>=52.2->-r doctr/requirements.txt (line 10)) (1.1.1)\n",
            "Requirement already satisfied: Pyphen>=0.9.1 in /usr/local/lib/python3.7/dist-packages (from weasyprint<53.0,>=52.2->-r doctr/requirements.txt (line 10)) (0.11.0)\n",
            "Requirement already satisfied: cssselect2>=0.1 in /usr/local/lib/python3.7/dist-packages (from weasyprint<53.0,>=52.2->-r doctr/requirements.txt (line 10)) (0.4.1)\n",
            "Requirement already satisfied: setuptools>=39.2.0 in /usr/local/lib/python3.7/dist-packages (from weasyprint<53.0,>=52.2->-r doctr/requirements.txt (line 10)) (57.4.0)\n",
            "Requirement already satisfied: cffi>=0.6 in /usr/local/lib/python3.7/dist-packages (from weasyprint<53.0,>=52.2->-r doctr/requirements.txt (line 10)) (1.15.0)\n",
            "Requirement already satisfied: html5lib>=0.999999999 in /usr/local/lib/python3.7/dist-packages (from weasyprint<53.0,>=52.2->-r doctr/requirements.txt (line 10)) (1.0.1)\n",
            "Requirement already satisfied: wheel<1.0,>=0.32.0 in /usr/local/lib/python3.7/dist-packages (from tensorflow>=2.4.0->-r doctr/requirements.txt (line 12)) (0.37.0)\n",
            "Requirement already satisfied: tensorboard~=2.6 in /usr/local/lib/python3.7/dist-packages (from tensorflow>=2.4.0->-r doctr/requirements.txt (line 12)) (2.7.0)\n",
            "Requirement already satisfied: termcolor>=1.1.0 in /usr/local/lib/python3.7/dist-packages (from tensorflow>=2.4.0->-r doctr/requirements.txt (line 12)) (1.1.0)\n",
            "Requirement already satisfied: tensorflow-io-gcs-filesystem>=0.21.0 in /usr/local/lib/python3.7/dist-packages (from tensorflow>=2.4.0->-r doctr/requirements.txt (line 12)) (0.22.0)\n",
            "Collecting tensorflow>=2.4.0\n",
            "  Downloading tensorflow-2.6.2-cp37-cp37m-manylinux2010_x86_64.whl (458.3 MB)\n",
            "\u001b[K     |████████████████████████████████| 458.3 MB 11 kB/s \n",
            "\u001b[?25hCollecting wrapt~=1.12.1\n",
            "  Downloading wrapt-1.12.1.tar.gz (27 kB)\n",
            "Collecting clang~=5.0\n",
            "  Downloading clang-5.0.tar.gz (30 kB)\n",
            "Requirement already satisfied: six~=1.15.0 in /usr/local/lib/python3.7/dist-packages (from tensorflow>=2.4.0->-r doctr/requirements.txt (line 12)) (1.15.0)\n",
            "Collecting flatbuffers~=1.12.0\n",
            "  Downloading flatbuffers-1.12-py2.py3-none-any.whl (15 kB)\n",
            "Collecting tensorflow-estimator<2.7,>=2.6.0\n",
            "  Downloading tensorflow_estimator-2.6.0-py2.py3-none-any.whl (462 kB)\n",
            "\u001b[K     |████████████████████████████████| 462 kB 53.2 MB/s \n",
            "\u001b[?25hRequirement already satisfied: google-pasta~=0.2 in /usr/local/lib/python3.7/dist-packages (from tensorflow>=2.4.0->-r doctr/requirements.txt (line 12)) (0.2.0)\n",
            "Requirement already satisfied: grpcio<2.0,>=1.37.0 in /usr/local/lib/python3.7/dist-packages (from tensorflow>=2.4.0->-r doctr/requirements.txt (line 12)) (1.42.0)\n",
            "Requirement already satisfied: keras-preprocessing~=1.1.2 in /usr/local/lib/python3.7/dist-packages (from tensorflow>=2.4.0->-r doctr/requirements.txt (line 12)) (1.1.2)\n",
            "Requirement already satisfied: gast==0.4.0 in /usr/local/lib/python3.7/dist-packages (from tensorflow>=2.4.0->-r doctr/requirements.txt (line 12)) (0.4.0)\n",
            "Requirement already satisfied: opt-einsum~=3.3.0 in /usr/local/lib/python3.7/dist-packages (from tensorflow>=2.4.0->-r doctr/requirements.txt (line 12)) (3.3.0)\n",
            "Collecting typing-extensions~=3.7.4\n",
            "  Downloading typing_extensions-3.7.4.3-py3-none-any.whl (22 kB)\n",
            "Requirement already satisfied: absl-py~=0.10 in /usr/local/lib/python3.7/dist-packages (from tensorflow>=2.4.0->-r doctr/requirements.txt (line 12)) (0.12.0)\n",
            "Requirement already satisfied: protobuf>=3.9.2 in /usr/local/lib/python3.7/dist-packages (from tensorflow>=2.4.0->-r doctr/requirements.txt (line 12)) (3.17.3)\n",
            "Collecting tensorboard<2.7,>=2.6.0\n",
            "  Downloading tensorboard-2.6.0-py3-none-any.whl (5.6 MB)\n",
            "\u001b[K     |████████████████████████████████| 5.6 MB 34.4 MB/s \n",
            "\u001b[?25hRequirement already satisfied: astunparse~=1.6.3 in /usr/local/lib/python3.7/dist-packages (from tensorflow>=2.4.0->-r doctr/requirements.txt (line 12)) (1.6.3)\n",
            "Requirement already satisfied: typeguard>=2.7 in /usr/local/lib/python3.7/dist-packages (from tensorflow-addons>=0.13.0->-r doctr/requirements.txt (line 15)) (2.7.1)\n",
            "Requirement already satisfied: defusedxml in /usr/local/lib/python3.7/dist-packages (from CairoSVG>=2.4.0->weasyprint<53.0,>=52.2->-r doctr/requirements.txt (line 10)) (0.7.1)\n",
            "Requirement already satisfied: pycparser in /usr/local/lib/python3.7/dist-packages (from cffi>=0.6->weasyprint<53.0,>=52.2->-r doctr/requirements.txt (line 10)) (2.21)\n",
            "Requirement already satisfied: webencodings in /usr/local/lib/python3.7/dist-packages (from cssselect2>=0.1->weasyprint<53.0,>=52.2->-r doctr/requirements.txt (line 10)) (0.5.1)\n",
            "Requirement already satisfied: tensorboard-plugin-wit>=1.6.0 in /usr/local/lib/python3.7/dist-packages (from tensorboard<2.7,>=2.6.0->tensorflow>=2.4.0->-r doctr/requirements.txt (line 12)) (1.8.0)\n",
            "Requirement already satisfied: google-auth-oauthlib<0.5,>=0.4.1 in /usr/local/lib/python3.7/dist-packages (from tensorboard<2.7,>=2.6.0->tensorflow>=2.4.0->-r doctr/requirements.txt (line 12)) (0.4.6)\n",
            "Requirement already satisfied: werkzeug>=0.11.15 in /usr/local/lib/python3.7/dist-packages (from tensorboard<2.7,>=2.6.0->tensorflow>=2.4.0->-r doctr/requirements.txt (line 12)) (1.0.1)\n",
            "Requirement already satisfied: google-auth<2,>=1.6.3 in /usr/local/lib/python3.7/dist-packages (from tensorboard<2.7,>=2.6.0->tensorflow>=2.4.0->-r doctr/requirements.txt (line 12)) (1.35.0)\n",
            "Requirement already satisfied: markdown>=2.6.8 in /usr/local/lib/python3.7/dist-packages (from tensorboard<2.7,>=2.6.0->tensorflow>=2.4.0->-r doctr/requirements.txt (line 12)) (3.3.6)\n",
            "Requirement already satisfied: requests<3,>=2.21.0 in /usr/local/lib/python3.7/dist-packages (from tensorboard<2.7,>=2.6.0->tensorflow>=2.4.0->-r doctr/requirements.txt (line 12)) (2.23.0)\n",
            "Requirement already satisfied: tensorboard-data-server<0.7.0,>=0.6.0 in /usr/local/lib/python3.7/dist-packages (from tensorboard<2.7,>=2.6.0->tensorflow>=2.4.0->-r doctr/requirements.txt (line 12)) (0.6.1)\n",
            "Requirement already satisfied: pyasn1-modules>=0.2.1 in /usr/local/lib/python3.7/dist-packages (from google-auth<2,>=1.6.3->tensorboard<2.7,>=2.6.0->tensorflow>=2.4.0->-r doctr/requirements.txt (line 12)) (0.2.8)\n",
            "Requirement already satisfied: rsa<5,>=3.1.4 in /usr/local/lib/python3.7/dist-packages (from google-auth<2,>=1.6.3->tensorboard<2.7,>=2.6.0->tensorflow>=2.4.0->-r doctr/requirements.txt (line 12)) (4.8)\n",
            "Requirement already satisfied: cachetools<5.0,>=2.0.0 in /usr/local/lib/python3.7/dist-packages (from google-auth<2,>=1.6.3->tensorboard<2.7,>=2.6.0->tensorflow>=2.4.0->-r doctr/requirements.txt (line 12)) (4.2.4)\n",
            "Requirement already satisfied: requests-oauthlib>=0.7.0 in /usr/local/lib/python3.7/dist-packages (from google-auth-oauthlib<0.5,>=0.4.1->tensorboard<2.7,>=2.6.0->tensorflow>=2.4.0->-r doctr/requirements.txt (line 12)) (1.3.0)\n",
            "Requirement already satisfied: importlib-metadata>=4.4 in /usr/local/lib/python3.7/dist-packages (from markdown>=2.6.8->tensorboard<2.7,>=2.6.0->tensorflow>=2.4.0->-r doctr/requirements.txt (line 12)) (4.8.2)\n",
            "Requirement already satisfied: zipp>=0.5 in /usr/local/lib/python3.7/dist-packages (from importlib-metadata>=4.4->markdown>=2.6.8->tensorboard<2.7,>=2.6.0->tensorflow>=2.4.0->-r doctr/requirements.txt (line 12)) (3.6.0)\n",
            "Requirement already satisfied: pyasn1<0.5.0,>=0.4.6 in /usr/local/lib/python3.7/dist-packages (from pyasn1-modules>=0.2.1->google-auth<2,>=1.6.3->tensorboard<2.7,>=2.6.0->tensorflow>=2.4.0->-r doctr/requirements.txt (line 12)) (0.4.8)\n",
            "Requirement already satisfied: idna<3,>=2.5 in /usr/local/lib/python3.7/dist-packages (from requests<3,>=2.21.0->tensorboard<2.7,>=2.6.0->tensorflow>=2.4.0->-r doctr/requirements.txt (line 12)) (2.10)\n",
            "Requirement already satisfied: urllib3!=1.25.0,!=1.25.1,<1.26,>=1.21.1 in /usr/local/lib/python3.7/dist-packages (from requests<3,>=2.21.0->tensorboard<2.7,>=2.6.0->tensorflow>=2.4.0->-r doctr/requirements.txt (line 12)) (1.24.3)\n",
            "Requirement already satisfied: certifi>=2017.4.17 in /usr/local/lib/python3.7/dist-packages (from requests<3,>=2.21.0->tensorboard<2.7,>=2.6.0->tensorflow>=2.4.0->-r doctr/requirements.txt (line 12)) (2021.10.8)\n",
            "Requirement already satisfied: chardet<4,>=3.0.2 in /usr/local/lib/python3.7/dist-packages (from requests<3,>=2.21.0->tensorboard<2.7,>=2.6.0->tensorflow>=2.4.0->-r doctr/requirements.txt (line 12)) (3.0.4)\n",
            "Requirement already satisfied: oauthlib>=3.0.0 in /usr/local/lib/python3.7/dist-packages (from requests-oauthlib>=0.7.0->google-auth-oauthlib<0.5,>=0.4.1->tensorboard<2.7,>=2.6.0->tensorflow>=2.4.0->-r doctr/requirements.txt (line 12)) (3.1.1)\n",
            "Building wheels for collected packages: clang, wrapt\n",
            "  Building wheel for clang (setup.py) ... \u001b[?25l\u001b[?25hdone\n",
            "  Created wheel for clang: filename=clang-5.0-py3-none-any.whl size=30692 sha256=6f3e47fc466c3b92766e6c2d288a4d6f2fd2bd35f41a0d000e690e6f63fb83a2\n",
            "  Stored in directory: /root/.cache/pip/wheels/98/91/04/971b4c587cf47ae952b108949b46926f426c02832d120a082a\n",
            "  Building wheel for wrapt (setup.py) ... \u001b[?25l\u001b[?25hdone\n",
            "  Created wheel for wrapt: filename=wrapt-1.12.1-cp37-cp37m-linux_x86_64.whl size=68731 sha256=c8002bdc2b0561364542ca193a8d669994eab104bce5b65422ffcb428e80e858\n",
            "  Stored in directory: /root/.cache/pip/wheels/62/76/4c/aa25851149f3f6d9785f6c869387ad82b3fd37582fa8147ac6\n",
            "Successfully built clang wrapt\n",
            "Installing collected packages: typing-extensions, wrapt, tensorflow-estimator, tensorboard, keras, flatbuffers, clang, tensorflow-addons, tensorflow\n",
            "  Attempting uninstall: typing-extensions\n",
            "    Found existing installation: typing-extensions 3.10.0.2\n",
            "    Uninstalling typing-extensions-3.10.0.2:\n",
            "      Successfully uninstalled typing-extensions-3.10.0.2\n",
            "  Attempting uninstall: wrapt\n",
            "    Found existing installation: wrapt 1.13.3\n",
            "    Uninstalling wrapt-1.13.3:\n",
            "      Successfully uninstalled wrapt-1.13.3\n",
            "  Attempting uninstall: tensorflow-estimator\n",
            "    Found existing installation: tensorflow-estimator 2.7.0\n",
            "    Uninstalling tensorflow-estimator-2.7.0:\n",
            "      Successfully uninstalled tensorflow-estimator-2.7.0\n",
            "  Attempting uninstall: tensorboard\n",
            "    Found existing installation: tensorboard 2.7.0\n",
            "    Uninstalling tensorboard-2.7.0:\n",
            "      Successfully uninstalled tensorboard-2.7.0\n",
            "  Attempting uninstall: keras\n",
            "    Found existing installation: keras 2.7.0\n",
            "    Uninstalling keras-2.7.0:\n",
            "      Successfully uninstalled keras-2.7.0\n",
            "  Attempting uninstall: flatbuffers\n",
            "    Found existing installation: flatbuffers 2.0\n",
            "    Uninstalling flatbuffers-2.0:\n",
            "      Successfully uninstalled flatbuffers-2.0\n",
            "  Attempting uninstall: tensorflow\n",
            "    Found existing installation: tensorflow 2.7.0\n",
            "    Uninstalling tensorflow-2.7.0:\n",
            "      Successfully uninstalled tensorflow-2.7.0\n",
            "Successfully installed clang-5.0 flatbuffers-1.12 keras-2.6.0 tensorboard-2.6.0 tensorflow-2.6.2 tensorflow-addons-0.15.0 tensorflow-estimator-2.6.0 typing-extensions-3.7.4.3 wrapt-1.12.1\n"
          ]
        }
      ]
    },
    {
      "cell_type": "code",
      "metadata": {
        "id": "Fatp-0zPLtCR"
      },
      "source": [
        "from doctr.io import DocumentFile\n",
        "from doctr.models import ocr_predictor"
      ],
      "execution_count": null,
      "outputs": []
    },
    {
      "cell_type": "code",
      "metadata": {
        "id": "crvsscVwM5J-",
        "colab": {
          "base_uri": "https://localhost:8080/",
          "height": 117,
          "referenced_widgets": [
            "12bfbda79b5b4530942b7f354e2f824c",
            "f19cc7251c564f14a3438e0965c3bd53",
            "44744efa35ee420fa0f56168a87a934e",
            "a4abaf508c9d4b99aa3304f4d220c26e",
            "9469e476dd3e4c65952050d278233231",
            "614c3311000f478ca4dd15b2c567d164",
            "bca01da0b92547858d6bdcdc90131480",
            "cf7ea034fcd64330817c3eb4b77c2509",
            "318ece411c5045dcac83224bc6977c0d",
            "a094941eaee7451a94101853b7b6d63d",
            "6ae185f32694440c9b5e1b63133bdd7f",
            "dda098f03c914497ba41ac952cb9412d",
            "e67691b938c54c1295a5d0864b7c2b80",
            "1f2b5d5b39804c8e840828a098b35c03",
            "30be67526fa94a1ea50abfe54d8529a0",
            "7c89d3458f894c94bb09b350758f5375",
            "91fcc25f2475484e9d8ca2c4e7e4a1fc",
            "9b1745bb0fda40d680b83e640a6b6776",
            "e6038186c01744d6ade88a0bfe56ede4",
            "8d174819ce56466fbc7a55b715432de7",
            "f8d2a12163a24fd58e566693ca11846b",
            "cb351d4a1af94f769018a4472d672332"
          ]
        },
        "outputId": "5c1dfafd-7c9d-4dc8-f99e-62c978055099"
      },
      "source": [
        "model = ocr_predictor(pretrained=True)\n",
        "#doc = DocumentFile.from_pdf(\"2-4 G.pdf\").as_images() \n",
        "doc = DocumentFile.from_images(\"1.png\")\n",
        "result = model(doc)\n",
        "json_output = result.export()"
      ],
      "execution_count": null,
      "outputs": [
        {
          "output_type": "stream",
          "name": "stdout",
          "text": [
            "Downloading https://github.com/mindee/doctr/releases/download/v0.2.0/db_resnet50-adcafc63.zip to /root/.cache/doctr/models/db_resnet50-adcafc63.zip\n"
          ]
        },
        {
          "output_type": "display_data",
          "data": {
            "application/vnd.jupyter.widget-view+json": {
              "model_id": "12bfbda79b5b4530942b7f354e2f824c",
              "version_minor": 0,
              "version_major": 2
            },
            "text/plain": [
              "  0%|          | 0/94178964 [00:00<?, ?it/s]"
            ]
          },
          "metadata": {}
        },
        {
          "output_type": "stream",
          "name": "stdout",
          "text": [
            "Downloading https://github.com/mindee/doctr/releases/download/v0.3.0/crnn_vgg16_bn-76b7f2c6.zip to /root/.cache/doctr/models/crnn_vgg16_bn-76b7f2c6.zip\n"
          ]
        },
        {
          "output_type": "display_data",
          "data": {
            "application/vnd.jupyter.widget-view+json": {
              "model_id": "dda098f03c914497ba41ac952cb9412d",
              "version_minor": 0,
              "version_major": 2
            },
            "text/plain": [
              "  0%|          | 0/58758994 [00:00<?, ?it/s]"
            ]
          },
          "metadata": {}
        }
      ]
    },
    {
      "cell_type": "code",
      "metadata": {
        "colab": {
          "base_uri": "https://localhost:8080/"
        },
        "id": "0ABgJEx9KuC_",
        "outputId": "5f85d8c5-db2e-4d46-a32d-b92c6dc1bfb3"
      },
      "source": [
        "for w in json_output['pages'][0]['blocks'][0]['lines'][0]['words']:\n",
        "  print(w['value'])"
      ],
      "execution_count": null,
      "outputs": [
        {
          "output_type": "stream",
          "name": "stdout",
          "text": [
            "OZN\n",
            "MOBILYA\n",
            "MALZEMELERILTD.\n",
            "STI.\n"
          ]
        }
      ]
    },
    {
      "cell_type": "code",
      "metadata": {
        "id": "-v7mEot_Py5Y"
      },
      "source": [
        "import json\n",
        "with open(\"out.json\",\"w\") as f:\n",
        "  json.dump(json_output,f)"
      ],
      "execution_count": null,
      "outputs": []
    },
    {
      "cell_type": "code",
      "metadata": {
        "colab": {
          "base_uri": "https://localhost:8080/"
        },
        "id": "A3hnVvEuQ7aD",
        "outputId": "b13052f8-f576-4902-b59d-4ea6432d4614"
      },
      "source": [
        "print('Number of blocks = ', len(json_output['pages'][0]['blocks']))"
      ],
      "execution_count": null,
      "outputs": [
        {
          "output_type": "stream",
          "name": "stdout",
          "text": [
            "Number of blocks =  29\n"
          ]
        }
      ]
    },
    {
      "cell_type": "code",
      "metadata": {
        "colab": {
          "base_uri": "https://localhost:8080/"
        },
        "id": "6NLtPnTAQ-eV",
        "outputId": "ecc0be28-9f33-4342-9b37-93097f6f0de2"
      },
      "source": [
        "print('Number of lines = ', len(json_output['pages'][0]['blocks'][0]['lines']))"
      ],
      "execution_count": null,
      "outputs": [
        {
          "output_type": "stream",
          "name": "stdout",
          "text": [
            "Number of lines =  1\n"
          ]
        }
      ]
    },
    {
      "cell_type": "code",
      "metadata": {
        "colab": {
          "base_uri": "https://localhost:8080/"
        },
        "id": "lmLPWAKiRKEA",
        "outputId": "01ca2ba9-8d9a-419a-e397-4c5f92268c8a"
      },
      "source": [
        "print('Number of words = ', len(json_output['pages'][0]['blocks'][0]['lines'][0]['words']))"
      ],
      "execution_count": null,
      "outputs": [
        {
          "output_type": "stream",
          "name": "stdout",
          "text": [
            "Number of words =  4\n"
          ]
        }
      ]
    },
    {
      "cell_type": "code",
      "metadata": {
        "id": "NQa-weGlRM07",
        "colab": {
          "base_uri": "https://localhost:8080/"
        },
        "outputId": "2c00ddab-127c-49dd-de28-fbe49824c5f7"
      },
      "source": [
        "#words = []\n",
        "#for w in json_output['pages'][0]['blocks'][0]['lines'][0]['words']:\n",
        "#  word = (w['value'], w['geometry'][0][0], w['geometry'][0][1])\n",
        "#  words.append(word)\n",
        "#  print(w)\n",
        "for i in range(len(json_output['pages'][0]['blocks'])):\n",
        "  for j in range(len(json_output['pages'][0]['blocks'][i][\"lines\"])):\n",
        "    for w in json_output['pages'][0]['blocks'][i]['lines'][j]['words']:\n",
        "      if 'SUYUNAMM' in w['value']:\n",
        "        starting_y = w['geometry'][0][1] # assumes SUYUNAMM comes before all numbers \n",
        "\n",
        "seed_names = [str(s) + '.' for s in range(1,28)]\n",
        "seeds = []\n",
        "words = []\n",
        "\n",
        "for i in range(len(json_output['pages'][0]['blocks'])):\n",
        "  for j in range(len(json_output['pages'][0]['blocks'][i][\"lines\"])):\n",
        "    for w in json_output['pages'][0]['blocks'][i]['lines'][j]['words']: \n",
        "      if w['geometry'][0][1] <= starting_y:\n",
        "        continue\n",
        "\n",
        "      cleanvalue = w[\"value\"].replace(\"g\",\"9\")\n",
        "      cleanvalue = cleanvalue.replace(\"i\",\"1\")\n",
        "      cleanvalue = cleanvalue.replace(\"l\",\"1\")\n",
        "      cleanvalue = cleanvalue.replace(\"I\",\"1\")\n",
        "      cleanvalue = cleanvalue.replace(\"ı\",\"1\")\n",
        "      cleanvalue = cleanvalue.replace(\"s\",\"5\")\n",
        "      cleanvalue = cleanvalue.replace(\"S\",\"5\")\n",
        "      cleanvalue = cleanvalue.replace(\"o\",\"0\")\n",
        "      cleanvalue = cleanvalue.replace(\"O\",\"0\")\n",
        "      cleanvalue = cleanvalue.replace(\"-\",\".\")\n",
        "      cleanvalue = cleanvalue.replace(\"J\",\"1\")\n",
        "      cleanvalue = cleanvalue.replace(\"/\",\"1\")\n",
        "      cleanvalue = cleanvalue.replace(\"(\",\"1\")\n",
        "      \n",
        "\n",
        "      word = (cleanvalue, w['geometry'][0][0], w['geometry'][0][1], w['geometry'][1][1], w['confidence'])\n",
        "      words.append(word)\n",
        "      print(w)\n",
        "\n",
        "      if cleanvalue in seed_names:#  and w['confidence'] > 0.95): #warning \n",
        "        seeds.append(word)\n",
        "\n",
        "\n",
        "# Check if sorting is needed \n"
      ],
      "execution_count": null,
      "outputs": [
        {
          "output_type": "stream",
          "name": "stdout",
          "text": [
            "{'value': '42', 'confidence': 0.9960918426513672, 'geometry': ((0.2705078125, 0.2138671875), (0.3310546875, 0.2431640625))}\n",
            "{'value': '44.5', 'confidence': 0.7759761214256287, 'geometry': ((0.275390625, 0.244140625), (0.345703125, 0.2666015625))}\n",
            "{'value': '42', 'confidence': 0.8566473722457886, 'geometry': ((0.2724609375, 0.2666015625), (0.3310546875, 0.29296875))}\n",
            "{'value': '445', 'confidence': 0.4941757619380951, 'geometry': ((0.2763671875, 0.291015625), (0.345703125, 0.3173828125))}\n",
            "{'value': '42', 'confidence': 0.9921876788139343, 'geometry': ((0.2724609375, 0.314453125), (0.3349609375, 0.34375))}\n",
            "{'value': '42', 'confidence': 0.9836884140968323, 'geometry': ((0.2763671875, 0.3408203125), (0.3359375, 0.3671875))}\n",
            "{'value': '42', 'confidence': 0.7376596927642822, 'geometry': ((0.2802734375, 0.369140625), (0.3427734375, 0.3916015625))}\n",
            "{'value': '3S', 'confidence': 0.7963211536407471, 'geometry': ((0.2763671875, 0.392578125), (0.3349609375, 0.4150390625))}\n",
            "{'value': '29-S', 'confidence': 0.6198580265045166, 'geometry': ((0.2744140625, 0.4189453125), (0.361328125, 0.4404296875))}\n",
            "{'value': '29-7', 'confidence': 0.98531174659729, 'geometry': ((0.26953125, 0.443359375), (0.361328125, 0.46875))}\n",
            "{'value': '32-7', 'confidence': 0.9972919225692749, 'geometry': ((0.2724609375, 0.466796875), (0.3603515625, 0.4912109375))}\n",
            "{'value': '22', 'confidence': 0.3334539830684662, 'geometry': ((0.26953125, 0.4931640625), (0.345703125, 0.5146484375))}\n",
            "{'value': '22', 'confidence': 0.4843054413795471, 'geometry': ((0.27734375, 0.5185546875), (0.3466796875, 0.5400390625))}\n",
            "{'value': '10', 'confidence': 0.47476357221603394, 'geometry': ((0.287109375, 0.5458984375), (0.3330078125, 0.564453125))}\n",
            "{'value': '10', 'confidence': 0.6651076078414917, 'geometry': ((0.2939453125, 0.572265625), (0.3330078125, 0.5908203125))}\n",
            "{'value': '10', 'confidence': 0.24761085212230682, 'geometry': ((0.296875, 0.5966796875), (0.3408203125, 0.6162109375))}\n",
            "{'value': '10', 'confidence': 0.44259878993034363, 'geometry': ((0.298828125, 0.6201171875), (0.34375, 0.642578125))}\n",
            "{'value': '38-5', 'confidence': 0.9223816394805908, 'geometry': ((0.2919921875, 0.6435546875), (0.365234375, 0.666015625))}\n",
            "{'value': '36', 'confidence': 0.9996548295021057, 'geometry': ((0.294921875, 0.6669921875), (0.3369140625, 0.69140625))}\n",
            "{'value': '8', 'confidence': 0.9651709794998169, 'geometry': ((0.30078125, 0.6953125), (0.3330078125, 0.720703125))}\n",
            "{'value': '17', 'confidence': 0.9894223809242249, 'geometry': ((0.2978515625, 0.7197265625), (0.33984375, 0.744140625))}\n",
            "{'value': '34', 'confidence': 0.9997444748878479, 'geometry': ((0.2880859375, 0.7431640625), (0.3310546875, 0.7705078125))}\n",
            "{'value': '34', 'confidence': 0.9988038539886475, 'geometry': ((0.2900390625, 0.76953125), (0.3310546875, 0.796875))}\n",
            "{'value': '34', 'confidence': 0.9966334700584412, 'geometry': ((0.283203125, 0.7939453125), (0.3291015625, 0.822265625))}\n",
            "{'value': '36.5', 'confidence': 0.9210332036018372, 'geometry': ((0.2783203125, 0.818359375), (0.345703125, 0.84375))}\n",
            "{'value': '36.5', 'confidence': 0.9377893209457397, 'geometry': ((0.27734375, 0.8408203125), (0.3486328125, 0.8662109375))}\n",
            "{'value': '65-2', 'confidence': 0.997358500957489, 'geometry': ((0.279296875, 0.865234375), (0.3564453125, 0.890625))}\n",
            "{'value': '1.', 'confidence': 0.9957984089851379, 'geometry': ((0.04296875, 0.21484375), (0.0615234375, 0.232421875))}\n",
            "{'value': '2.', 'confidence': 0.9951784610748291, 'geometry': ((0.0419921875, 0.240234375), (0.0625, 0.2578125))}\n",
            "{'value': '3.', 'confidence': 0.9989524483680725, 'geometry': ((0.04296875, 0.265625), (0.0625, 0.283203125))}\n",
            "{'value': '4.', 'confidence': 0.9944223165512085, 'geometry': ((0.0439453125, 0.2919921875), (0.0615234375, 0.306640625))}\n",
            "{'value': '5.', 'confidence': 0.999335527420044, 'geometry': ((0.0439453125, 0.3154296875), (0.0634765625, 0.3330078125))}\n",
            "{'value': '6.', 'confidence': 0.9988734126091003, 'geometry': ((0.0439453125, 0.3408203125), (0.0634765625, 0.3583984375))}\n",
            "{'value': '7.', 'confidence': 0.9766151905059814, 'geometry': ((0.0439453125, 0.3662109375), (0.064453125, 0.3828125))}\n",
            "{'value': '8.', 'confidence': 0.9980925917625427, 'geometry': ((0.044921875, 0.3916015625), (0.064453125, 0.4091796875))}\n",
            "{'value': '9.', 'confidence': 0.9945285320281982, 'geometry': ((0.046875, 0.41796875), (0.0634765625, 0.4326171875))}\n",
            "{'value': '10.', 'confidence': 0.9993793368339539, 'geometry': ((0.046875, 0.4423828125), (0.07421875, 0.4580078125))}\n",
            "{'value': '11.', 'confidence': 0.9845799803733826, 'geometry': ((0.046875, 0.466796875), (0.07421875, 0.4833984375))}\n",
            "{'value': '12.', 'confidence': 0.9986904859542847, 'geometry': ((0.0478515625, 0.4921875), (0.0751953125, 0.5087890625))}\n",
            "{'value': '13.', 'confidence': 0.9988172054290771, 'geometry': ((0.048828125, 0.517578125), (0.076171875, 0.533203125))}\n",
            "{'value': '14.', 'confidence': 0.9992821216583252, 'geometry': ((0.048828125, 0.5419921875), (0.076171875, 0.55859375))}\n",
            "{'value': '15.', 'confidence': 0.968019425868988, 'geometry': ((0.048828125, 0.5673828125), (0.076171875, 0.583984375))}\n",
            "{'value': '16.', 'confidence': 0.9993955492973328, 'geometry': ((0.0498046875, 0.5927734375), (0.0771484375, 0.609375))}\n",
            "{'value': '17.', 'confidence': 0.9986190795898438, 'geometry': ((0.0498046875, 0.6181640625), (0.0771484375, 0.634765625))}\n",
            "{'value': '18.', 'confidence': 0.9991515874862671, 'geometry': ((0.05078125, 0.6435546875), (0.078125, 0.66015625))}\n",
            "{'value': '19.', 'confidence': 0.9988971948623657, 'geometry': ((0.05078125, 0.6689453125), (0.078125, 0.685546875))}\n",
            "{'value': '20.', 'confidence': 0.9995013475418091, 'geometry': ((0.05078125, 0.6943359375), (0.0791015625, 0.7099609375))}\n",
            "{'value': '21.', 'confidence': 0.9991887807846069, 'geometry': ((0.05078125, 0.7197265625), (0.0791015625, 0.7353515625))}\n",
            "{'value': '22.', 'confidence': 0.9977433085441589, 'geometry': ((0.0517578125, 0.744140625), (0.080078125, 0.7607421875))}\n",
            "{'value': '23.', 'confidence': 0.9994413256645203, 'geometry': ((0.0517578125, 0.76953125), (0.080078125, 0.78515625))}\n",
            "{'value': '24.', 'confidence': 0.9979117512702942, 'geometry': ((0.052734375, 0.7939453125), (0.0810546875, 0.810546875))}\n",
            "{'value': '25.', 'confidence': 0.9622915387153625, 'geometry': ((0.0537109375, 0.8193359375), (0.0810546875, 0.8359375))}\n",
            "{'value': '26.', 'confidence': 0.9991248846054077, 'geometry': ((0.0537109375, 0.8447265625), (0.08203125, 0.8603515625))}\n",
            "{'value': '27.', 'confidence': 0.7189121246337891, 'geometry': ((0.0537109375, 0.869140625), (0.08203125, 0.8857421875))}\n",
            "{'value': '166', 'confidence': 0.9622094035148621, 'geometry': ((0.11328125, 0.21484375), (0.171875, 0.2451171875))}\n",
            "{'value': 'go', 'confidence': 0.668655514717102, 'geometry': ((0.12890625, 0.240234375), (0.169921875, 0.263671875))}\n",
            "{'value': '9o', 'confidence': 0.4359152317047119, 'geometry': ((0.130859375, 0.267578125), (0.1748046875, 0.291015625))}\n",
            "{'value': '66', 'confidence': 0.9921649694442749, 'geometry': ((0.126953125, 0.287109375), (0.17578125, 0.3193359375))}\n",
            "{'value': '66', 'confidence': 0.9979350566864014, 'geometry': ((0.119140625, 0.3134765625), (0.171875, 0.345703125))}\n",
            "{'value': '57-4', 'confidence': 0.991435706615448, 'geometry': ((0.1220703125, 0.3447265625), (0.19921875, 0.3701171875))}\n",
            "{'value': '62.4', 'confidence': 0.8318227529525757, 'geometry': ((0.126953125, 0.3662109375), (0.19921875, 0.392578125))}\n",
            "{'value': '27-2', 'confidence': 0.6054080724716187, 'geometry': ((0.125, 0.392578125), (0.2158203125, 0.41796875))}\n",
            "{'value': '1675', 'confidence': 0.8150911331176758, 'geometry': ((0.1240234375, 0.4150390625), (0.2197265625, 0.4443359375))}\n",
            "{'value': '122-5', 'confidence': 0.7004539370536804, 'geometry': ((0.1279296875, 0.4453125), (0.2216796875, 0.4638671875))}\n",
            "{'value': '122-S', 'confidence': 0.6394423246383667, 'geometry': ((0.12890625, 0.4716796875), (0.2236328125, 0.490234375))}\n",
            "{'value': '59-8', 'confidence': 0.9596818685531616, 'geometry': ((0.1259765625, 0.494140625), (0.2080078125, 0.5185546875))}\n",
            "{'value': '65-6', 'confidence': 0.9279436469078064, 'geometry': ((0.12890625, 0.515625), (0.2099609375, 0.541015625))}\n",
            "{'value': '56.5', 'confidence': 0.5865167379379272, 'geometry': ((0.1171875, 0.54296875), (0.2099609375, 0.568359375))}\n",
            "{'value': 'SI.S', 'confidence': 0.2691953778266907, 'geometry': ((0.1171875, 0.5712890625), (0.201171875, 0.5927734375))}\n",
            "{'value': '35', 'confidence': 0.7655243277549744, 'geometry': ((0.1123046875, 0.5927734375), (0.1630859375, 0.619140625))}\n",
            "{'value': '345', 'confidence': 0.47538381814956665, 'geometry': ((0.1171875, 0.619140625), (0.1982421875, 0.6474609375))}\n",
            "{'value': '44', 'confidence': 0.9938321113586426, 'geometry': ((0.1240234375, 0.640625), (0.1767578125, 0.67578125))}\n",
            "{'value': '348', 'confidence': 0.9454131126403809, 'geometry': ((0.125, 0.6708984375), (0.193359375, 0.6962890625))}\n",
            "{'value': '40-4', 'confidence': 0.9606373906135559, 'geometry': ((0.12890625, 0.6962890625), (0.1904296875, 0.72265625))}\n",
            "{'value': '43-6', 'confidence': 0.9891138672828674, 'geometry': ((0.1240234375, 0.72265625), (0.1982421875, 0.75))}\n",
            "{'value': '166', 'confidence': 0.9560238718986511, 'geometry': ((0.1259765625, 0.7431640625), (0.19140625, 0.7724609375))}\n",
            "{'value': '46-4', 'confidence': 0.7765054702758789, 'geometry': ((0.1357421875, 0.7705078125), (0.1953125, 0.8017578125))}\n",
            "{'value': '99', 'confidence': 0.9941928386688232, 'geometry': ((0.13671875, 0.796875), (0.185546875, 0.8203125))}\n",
            "{'value': '99', 'confidence': 0.5835321545600891, 'geometry': ((0.1337890625, 0.8212890625), (0.1884765625, 0.84765625))}\n",
            "{'value': '652', 'confidence': 0.7602855563163757, 'geometry': ((0.1337890625, 0.8427734375), (0.2119140625, 0.8681640625))}\n",
            "{'value': '117-8', 'confidence': 0.9436372518539429, 'geometry': ((0.1357421875, 0.8720703125), (0.2158203125, 0.896484375))}\n",
            "{'value': 'S2', 'confidence': 0.6260141134262085, 'geometry': ((0.392578125, 0.2158203125), (0.447265625, 0.23828125))}\n",
            "{'value': 'I7', 'confidence': 0.44712361693382263, 'geometry': ((0.396484375, 0.24609375), (0.447265625, 0.2646484375))}\n",
            "{'value': '12', 'confidence': 0.3997229337692261, 'geometry': ((0.3984375, 0.267578125), (0.4443359375, 0.2900390625))}\n",
            "{'value': '8', 'confidence': 0.9876222610473633, 'geometry': ((0.41796875, 0.2919921875), (0.4462890625, 0.314453125))}\n",
            "{'value': '8', 'confidence': 0.9858267903327942, 'geometry': ((0.4130859375, 0.3154296875), (0.44140625, 0.341796875))}\n",
            "{'value': 'I2', 'confidence': 0.6891453862190247, 'geometry': ((0.408203125, 0.345703125), (0.4521484375, 0.3642578125))}\n",
            "{'value': '8', 'confidence': 0.9559727907180786, 'geometry': ((0.4189453125, 0.3671875), (0.451171875, 0.3916015625))}\n",
            "{'value': '36', 'confidence': 0.9998564720153809, 'geometry': ((0.4013671875, 0.3916015625), (0.4501953125, 0.41796875))}\n",
            "{'value': 'I2', 'confidence': 0.6224422454833984, 'geometry': ((0.4072265625, 0.41796875), (0.4599609375, 0.4404296875))}\n",
            "{'value': '24', 'confidence': 0.9977994561195374, 'geometry': ((0.400390625, 0.4404296875), (0.4521484375, 0.466796875))}\n",
            "{'value': '16', 'confidence': 0.933392345905304, 'geometry': ((0.40625, 0.4638671875), (0.4521484375, 0.490234375))}\n",
            "{'value': '24', 'confidence': 0.9584512114524841, 'geometry': ((0.3974609375, 0.4892578125), (0.4580078125, 0.5205078125))}\n",
            "{'value': '16', 'confidence': 0.7553962469100952, 'geometry': ((0.404296875, 0.509765625), (0.4560546875, 0.5419921875))}\n",
            "{'value': '32', 'confidence': 0.9918205738067627, 'geometry': ((0.396484375, 0.5419921875), (0.451171875, 0.5673828125))}\n",
            "{'value': '48', 'confidence': 0.9996729493141174, 'geometry': ((0.3935546875, 0.56640625), (0.44921875, 0.59375))}\n",
            "{'value': '160', 'confidence': 0.9791854619979858, 'geometry': ((0.3984375, 0.5908203125), (0.4599609375, 0.6162109375))}\n",
            "{'value': '68', 'confidence': 0.999641478061676, 'geometry': ((0.4111328125, 0.6142578125), (0.455078125, 0.6416015625))}\n",
            "{'value': '2o', 'confidence': 0.6346717476844788, 'geometry': ((0.404296875, 0.64453125), (0.4501953125, 0.6640625))}\n",
            "{'value': '40', 'confidence': 0.8380402326583862, 'geometry': ((0.4033203125, 0.666015625), (0.44921875, 0.6982421875))}\n",
            "{'value': '40', 'confidence': 0.9965317845344543, 'geometry': ((0.4111328125, 0.693359375), (0.4541015625, 0.720703125))}\n",
            "{'value': '40', 'confidence': 0.8970334529876709, 'geometry': ((0.41015625, 0.7197265625), (0.453125, 0.744140625))}\n",
            "{'value': '8', 'confidence': 0.9957024455070496, 'geometry': ((0.4228515625, 0.744140625), (0.44921875, 0.767578125))}\n",
            "{'value': '4', 'confidence': 0.9389733076095581, 'geometry': ((0.419921875, 0.767578125), (0.4423828125, 0.794921875))}\n",
            "{'value': '4', 'confidence': 0.9410772919654846, 'geometry': ((0.4169921875, 0.8203125), (0.4365234375, 0.83984375))}\n",
            "{'value': '4', 'confidence': 0.986670970916748, 'geometry': ((0.4111328125, 0.84375), (0.4345703125, 0.869140625))}\n",
            "{'value': '4', 'confidence': 0.9982600808143616, 'geometry': ((0.4111328125, 0.8681640625), (0.4365234375, 0.892578125))}\n",
            "{'value': 'Sunto', 'confidence': 0.9244008660316467, 'geometry': ((0.3466796875, 0.8955078125), (0.453125, 0.9130859375))}\n",
            "{'value': 'Y', 'confidence': 0.8941546678543091, 'geometry': ((0.52734375, 0.2177734375), (0.5517578125, 0.2353515625))}\n",
            "{'value': 'Y', 'confidence': 0.2294389307498932, 'geometry': ((0.5283203125, 0.2451171875), (0.552734375, 0.26171875))}\n",
            "{'value': 'X', 'confidence': 0.8657704591751099, 'geometry': ((0.900390625, 0.240234375), (0.9267578125, 0.2607421875))}\n",
            "{'value': 'a', 'confidence': 0.24539051949977875, 'geometry': ((0.916015625, 0.2666015625), (0.9296875, 0.2763671875))}\n",
            "{'value': 'X', 'confidence': 0.6175989508628845, 'geometry': ((0.51953125, 0.34765625), (0.5380859375, 0.361328125))}\n",
            "{'value': 'X', 'confidence': 0.5840874910354614, 'geometry': ((0.5205078125, 0.369140625), (0.5419921875, 0.38671875))}\n",
            "{'value': 'Y', 'confidence': 0.6596444845199585, 'geometry': ((0.5126953125, 0.3955078125), (0.53515625, 0.4130859375))}\n",
            "{'value': 'y', 'confidence': 0.7071767449378967, 'geometry': ((0.6494140625, 0.494140625), (0.6708984375, 0.5068359375))}\n",
            "{'value': 'X', 'confidence': 0.30630406737327576, 'geometry': ((0.896484375, 0.517578125), (0.91796875, 0.5322265625))}\n",
            "{'value': '-', 'confidence': 0.48303350806236267, 'geometry': ((0.5302734375, 0.548828125), (0.5400390625, 0.5595703125))}\n",
            "{'value': 'X', 'confidence': 0.37636253237724304, 'geometry': ((0.5146484375, 0.5703125), (0.5380859375, 0.587890625))}\n",
            "{'value': 'Y', 'confidence': 0.8577158451080322, 'geometry': ((0.5146484375, 0.5947265625), (0.5361328125, 0.61328125))}\n",
            "{'value': 'y', 'confidence': 0.4236542582511902, 'geometry': ((0.52734375, 0.646484375), (0.5478515625, 0.6630859375))}\n",
            "{'value': 'Y', 'confidence': 0.6665369868278503, 'geometry': ((0.5234375, 0.6728515625), (0.544921875, 0.689453125))}\n",
            "{'value': 'Y', 'confidence': 0.22286847233772278, 'geometry': ((0.5224609375, 0.748046875), (0.5458984375, 0.7646484375))}\n",
            "{'value': '-', 'confidence': 0.9958088397979736, 'geometry': ((0.5283203125, 0.7783203125), (0.5361328125, 0.7861328125))}\n",
            "{'value': 'Y', 'confidence': 0.5772573351860046, 'geometry': ((0.53515625, 0.8466796875), (0.5546875, 0.8642578125))}\n",
            "{'value': 'NOTLAR:', 'confidence': 0.7840097546577454, 'geometry': ((0.056640625, 0.8974609375), (0.142578125, 0.912109375))}\n",
            "{'value': '20', 'confidence': 0.4081406593322754, 'geometry': ((0.1455078125, 0.89453125), (0.201171875, 0.916015625))}\n",
            "{'value': '-Tobol', 'confidence': 0.18206273019313812, 'geometry': ((0.2060546875, 0.8955078125), (0.30859375, 0.9130859375))}\n",
            "{'value': '35X10-', 'confidence': 0.2764385938644409, 'geometry': ((0.078125, 0.921875), (0.181640625, 0.943359375))}\n",
            "{'value': 'boslul', 'confidence': 0.7521764636039734, 'geometry': ((0.5068359375, 0.884765625), (0.623046875, 0.9169921875))}\n",
            "{'value': 'olur', 'confidence': 0.49029242992401123, 'geometry': ((0.65625, 0.890625), (0.734375, 0.912109375))}\n",
            "{'value': 'iSe', 'confidence': 0.1493891328573227, 'geometry': ((0.755859375, 0.892578125), (0.814453125, 0.9111328125))}\n",
            "{'value': 'A3661', 'confidence': 0.714459240436554, 'geometry': ((0.1220703125, 0.9521484375), (0.275390625, 0.9794921875))}\n",
            "{'value': '48-187-366', 'confidence': 0.16870751976966858, 'geometry': ((0.5048828125, 0.9453125), (0.7060546875, 0.9833984375))}\n",
            "{'value': 'ESK', 'confidence': 0.26456961035728455, 'geometry': ((0.744140625, 0.943359375), (0.82421875, 0.97265625))}\n",
            "{'value': 'Elo', 'confidence': 0.3883090019226074, 'geometry': ((0.8310546875, 0.939453125), (0.892578125, 0.9697265625))}\n",
            "{'value': 'PAZIAT', 'confidence': 0.29326772689819336, 'geometry': ((0.90625, 0.9462890625), (0.9951171875, 0.96484375))}\n",
            "{'value': '20plata', 'confidence': 0.2724258601665497, 'geometry': ((0.326171875, 0.953125), (0.4765625, 0.9912109375))}\n",
            "{'value': 'TIAUTET', 'confidence': 0.034335602074861526, 'geometry': ((0.638671875, 0.9716796875), (0.828125, 0.9921875))}\n"
          ]
        }
      ]
    },
    {
      "cell_type": "code",
      "metadata": {
        "id": "fvobFQUPepCT",
        "colab": {
          "base_uri": "https://localhost:8080/"
        },
        "outputId": "7b969a2e-efbe-4576-d8a8-b9867da7b48e"
      },
      "source": [
        "sorted_words = sorted(words, key = lambda x: x[2])\n",
        "for w in sorted_words:\n",
        "  print(w)"
      ],
      "execution_count": null,
      "outputs": [
        {
          "output_type": "stream",
          "name": "stdout",
          "text": [
            "('42', 0.2705078125, 0.2138671875, 0.2431640625, 0.9960918426513672)\n",
            "('1.', 0.04296875, 0.21484375, 0.232421875, 0.9957984089851379)\n",
            "('166', 0.11328125, 0.21484375, 0.2451171875, 0.9622094035148621)\n",
            "('52', 0.392578125, 0.2158203125, 0.23828125, 0.6260141134262085)\n",
            "('Y', 0.52734375, 0.2177734375, 0.2353515625, 0.8941546678543091)\n",
            "('2.', 0.0419921875, 0.240234375, 0.2578125, 0.9951784610748291)\n",
            "('90', 0.12890625, 0.240234375, 0.263671875, 0.668655514717102)\n",
            "('X', 0.900390625, 0.240234375, 0.2607421875, 0.8657704591751099)\n",
            "('44.5', 0.275390625, 0.244140625, 0.2666015625, 0.7759761214256287)\n",
            "('Y', 0.5283203125, 0.2451171875, 0.26171875, 0.2294389307498932)\n",
            "('17', 0.396484375, 0.24609375, 0.2646484375, 0.44712361693382263)\n",
            "('3.', 0.04296875, 0.265625, 0.283203125, 0.9989524483680725)\n",
            "('42', 0.2724609375, 0.2666015625, 0.29296875, 0.8566473722457886)\n",
            "('a', 0.916015625, 0.2666015625, 0.2763671875, 0.24539051949977875)\n",
            "('90', 0.130859375, 0.267578125, 0.291015625, 0.4359152317047119)\n",
            "('12', 0.3984375, 0.267578125, 0.2900390625, 0.3997229337692261)\n",
            "('66', 0.126953125, 0.287109375, 0.3193359375, 0.9921649694442749)\n",
            "('445', 0.2763671875, 0.291015625, 0.3173828125, 0.4941757619380951)\n",
            "('4.', 0.0439453125, 0.2919921875, 0.306640625, 0.9944223165512085)\n",
            "('8', 0.41796875, 0.2919921875, 0.314453125, 0.9876222610473633)\n",
            "('66', 0.119140625, 0.3134765625, 0.345703125, 0.9979350566864014)\n",
            "('42', 0.2724609375, 0.314453125, 0.34375, 0.9921876788139343)\n",
            "('5.', 0.0439453125, 0.3154296875, 0.3330078125, 0.999335527420044)\n",
            "('8', 0.4130859375, 0.3154296875, 0.341796875, 0.9858267903327942)\n",
            "('42', 0.2763671875, 0.3408203125, 0.3671875, 0.9836884140968323)\n",
            "('6.', 0.0439453125, 0.3408203125, 0.3583984375, 0.9988734126091003)\n",
            "('57.4', 0.1220703125, 0.3447265625, 0.3701171875, 0.991435706615448)\n",
            "('12', 0.408203125, 0.345703125, 0.3642578125, 0.6891453862190247)\n",
            "('X', 0.51953125, 0.34765625, 0.361328125, 0.6175989508628845)\n",
            "('7.', 0.0439453125, 0.3662109375, 0.3828125, 0.9766151905059814)\n",
            "('62.4', 0.126953125, 0.3662109375, 0.392578125, 0.8318227529525757)\n",
            "('8', 0.4189453125, 0.3671875, 0.3916015625, 0.9559727907180786)\n",
            "('42', 0.2802734375, 0.369140625, 0.3916015625, 0.7376596927642822)\n",
            "('X', 0.5205078125, 0.369140625, 0.38671875, 0.5840874910354614)\n",
            "('8.', 0.044921875, 0.3916015625, 0.4091796875, 0.9980925917625427)\n",
            "('36', 0.4013671875, 0.3916015625, 0.41796875, 0.9998564720153809)\n",
            "('35', 0.2763671875, 0.392578125, 0.4150390625, 0.7963211536407471)\n",
            "('27.2', 0.125, 0.392578125, 0.41796875, 0.6054080724716187)\n",
            "('Y', 0.5126953125, 0.3955078125, 0.4130859375, 0.6596444845199585)\n",
            "('1675', 0.1240234375, 0.4150390625, 0.4443359375, 0.8150911331176758)\n",
            "('9.', 0.046875, 0.41796875, 0.4326171875, 0.9945285320281982)\n",
            "('12', 0.4072265625, 0.41796875, 0.4404296875, 0.6224422454833984)\n",
            "('29.5', 0.2744140625, 0.4189453125, 0.4404296875, 0.6198580265045166)\n",
            "('24', 0.400390625, 0.4404296875, 0.466796875, 0.9977994561195374)\n",
            "('10.', 0.046875, 0.4423828125, 0.4580078125, 0.9993793368339539)\n",
            "('29.7', 0.26953125, 0.443359375, 0.46875, 0.98531174659729)\n",
            "('122.5', 0.1279296875, 0.4453125, 0.4638671875, 0.7004539370536804)\n",
            "('16', 0.40625, 0.4638671875, 0.490234375, 0.933392345905304)\n",
            "('32.7', 0.2724609375, 0.466796875, 0.4912109375, 0.9972919225692749)\n",
            "('11.', 0.046875, 0.466796875, 0.4833984375, 0.9845799803733826)\n",
            "('122.5', 0.12890625, 0.4716796875, 0.490234375, 0.6394423246383667)\n",
            "('24', 0.3974609375, 0.4892578125, 0.5205078125, 0.9584512114524841)\n",
            "('12.', 0.0478515625, 0.4921875, 0.5087890625, 0.9986904859542847)\n",
            "('22', 0.26953125, 0.4931640625, 0.5146484375, 0.3334539830684662)\n",
            "('59.8', 0.1259765625, 0.494140625, 0.5185546875, 0.9596818685531616)\n",
            "('y', 0.6494140625, 0.494140625, 0.5068359375, 0.7071767449378967)\n",
            "('16', 0.404296875, 0.509765625, 0.5419921875, 0.7553962469100952)\n",
            "('65.6', 0.12890625, 0.515625, 0.541015625, 0.9279436469078064)\n",
            "('13.', 0.048828125, 0.517578125, 0.533203125, 0.9988172054290771)\n",
            "('X', 0.896484375, 0.517578125, 0.5322265625, 0.30630406737327576)\n",
            "('22', 0.27734375, 0.5185546875, 0.5400390625, 0.4843054413795471)\n",
            "('14.', 0.048828125, 0.5419921875, 0.55859375, 0.9992821216583252)\n",
            "('32', 0.396484375, 0.5419921875, 0.5673828125, 0.9918205738067627)\n",
            "('56.5', 0.1171875, 0.54296875, 0.568359375, 0.5865167379379272)\n",
            "('10', 0.287109375, 0.5458984375, 0.564453125, 0.47476357221603394)\n",
            "('.', 0.5302734375, 0.548828125, 0.5595703125, 0.48303350806236267)\n",
            "('48', 0.3935546875, 0.56640625, 0.59375, 0.9996729493141174)\n",
            "('15.', 0.048828125, 0.5673828125, 0.583984375, 0.968019425868988)\n",
            "('X', 0.5146484375, 0.5703125, 0.587890625, 0.37636253237724304)\n",
            "('51.5', 0.1171875, 0.5712890625, 0.5927734375, 0.2691953778266907)\n",
            "('10', 0.2939453125, 0.572265625, 0.5908203125, 0.6651076078414917)\n",
            "('160', 0.3984375, 0.5908203125, 0.6162109375, 0.9791854619979858)\n",
            "('16.', 0.0498046875, 0.5927734375, 0.609375, 0.9993955492973328)\n",
            "('35', 0.1123046875, 0.5927734375, 0.619140625, 0.7655243277549744)\n",
            "('Y', 0.5146484375, 0.5947265625, 0.61328125, 0.8577158451080322)\n",
            "('10', 0.296875, 0.5966796875, 0.6162109375, 0.24761085212230682)\n",
            "('68', 0.4111328125, 0.6142578125, 0.6416015625, 0.999641478061676)\n",
            "('17.', 0.0498046875, 0.6181640625, 0.634765625, 0.9986190795898438)\n",
            "('345', 0.1171875, 0.619140625, 0.6474609375, 0.47538381814956665)\n",
            "('10', 0.298828125, 0.6201171875, 0.642578125, 0.44259878993034363)\n",
            "('44', 0.1240234375, 0.640625, 0.67578125, 0.9938321113586426)\n",
            "('38.5', 0.2919921875, 0.6435546875, 0.666015625, 0.9223816394805908)\n",
            "('18.', 0.05078125, 0.6435546875, 0.66015625, 0.9991515874862671)\n",
            "('20', 0.404296875, 0.64453125, 0.6640625, 0.6346717476844788)\n",
            "('y', 0.52734375, 0.646484375, 0.6630859375, 0.4236542582511902)\n",
            "('40', 0.4033203125, 0.666015625, 0.6982421875, 0.8380402326583862)\n",
            "('36', 0.294921875, 0.6669921875, 0.69140625, 0.9996548295021057)\n",
            "('19.', 0.05078125, 0.6689453125, 0.685546875, 0.9988971948623657)\n",
            "('348', 0.125, 0.6708984375, 0.6962890625, 0.9454131126403809)\n",
            "('Y', 0.5234375, 0.6728515625, 0.689453125, 0.6665369868278503)\n",
            "('40', 0.4111328125, 0.693359375, 0.720703125, 0.9965317845344543)\n",
            "('20.', 0.05078125, 0.6943359375, 0.7099609375, 0.9995013475418091)\n",
            "('8', 0.30078125, 0.6953125, 0.720703125, 0.9651709794998169)\n",
            "('40.4', 0.12890625, 0.6962890625, 0.72265625, 0.9606373906135559)\n",
            "('17', 0.2978515625, 0.7197265625, 0.744140625, 0.9894223809242249)\n",
            "('21.', 0.05078125, 0.7197265625, 0.7353515625, 0.9991887807846069)\n",
            "('40', 0.41015625, 0.7197265625, 0.744140625, 0.8970334529876709)\n",
            "('43.6', 0.1240234375, 0.72265625, 0.75, 0.9891138672828674)\n",
            "('34', 0.2880859375, 0.7431640625, 0.7705078125, 0.9997444748878479)\n",
            "('166', 0.1259765625, 0.7431640625, 0.7724609375, 0.9560238718986511)\n",
            "('22.', 0.0517578125, 0.744140625, 0.7607421875, 0.9977433085441589)\n",
            "('8', 0.4228515625, 0.744140625, 0.767578125, 0.9957024455070496)\n",
            "('Y', 0.5224609375, 0.748046875, 0.7646484375, 0.22286847233772278)\n",
            "('4', 0.419921875, 0.767578125, 0.794921875, 0.9389733076095581)\n",
            "('34', 0.2900390625, 0.76953125, 0.796875, 0.9988038539886475)\n",
            "('23.', 0.0517578125, 0.76953125, 0.78515625, 0.9994413256645203)\n",
            "('46.4', 0.1357421875, 0.7705078125, 0.8017578125, 0.7765054702758789)\n",
            "('.', 0.5283203125, 0.7783203125, 0.7861328125, 0.9958088397979736)\n",
            "('34', 0.283203125, 0.7939453125, 0.822265625, 0.9966334700584412)\n",
            "('24.', 0.052734375, 0.7939453125, 0.810546875, 0.9979117512702942)\n",
            "('99', 0.13671875, 0.796875, 0.8203125, 0.9941928386688232)\n",
            "('36.5', 0.2783203125, 0.818359375, 0.84375, 0.9210332036018372)\n",
            "('25.', 0.0537109375, 0.8193359375, 0.8359375, 0.9622915387153625)\n",
            "('4', 0.4169921875, 0.8203125, 0.83984375, 0.9410772919654846)\n",
            "('99', 0.1337890625, 0.8212890625, 0.84765625, 0.5835321545600891)\n",
            "('36.5', 0.27734375, 0.8408203125, 0.8662109375, 0.9377893209457397)\n",
            "('652', 0.1337890625, 0.8427734375, 0.8681640625, 0.7602855563163757)\n",
            "('4', 0.4111328125, 0.84375, 0.869140625, 0.986670970916748)\n",
            "('26.', 0.0537109375, 0.8447265625, 0.8603515625, 0.9991248846054077)\n",
            "('Y', 0.53515625, 0.8466796875, 0.8642578125, 0.5772573351860046)\n",
            "('65.2', 0.279296875, 0.865234375, 0.890625, 0.997358500957489)\n",
            "('4', 0.4111328125, 0.8681640625, 0.892578125, 0.9982600808143616)\n",
            "('27.', 0.0537109375, 0.869140625, 0.8857421875, 0.7189121246337891)\n",
            "('117.8', 0.1357421875, 0.8720703125, 0.896484375, 0.9436372518539429)\n",
            "('b051u1', 0.5068359375, 0.884765625, 0.9169921875, 0.7521764636039734)\n",
            "('01ur', 0.65625, 0.890625, 0.912109375, 0.49029242992401123)\n",
            "('15e', 0.755859375, 0.892578125, 0.9111328125, 0.1493891328573227)\n",
            "('20', 0.1455078125, 0.89453125, 0.916015625, 0.4081406593322754)\n",
            "('5unt0', 0.3466796875, 0.8955078125, 0.9130859375, 0.9244008660316467)\n",
            "('.T0b01', 0.2060546875, 0.8955078125, 0.9130859375, 0.18206273019313812)\n",
            "('N0TLAR:', 0.056640625, 0.8974609375, 0.912109375, 0.7840097546577454)\n",
            "('35X10.', 0.078125, 0.921875, 0.943359375, 0.2764385938644409)\n",
            "('E10', 0.8310546875, 0.939453125, 0.9697265625, 0.3883090019226074)\n",
            "('E5K', 0.744140625, 0.943359375, 0.97265625, 0.26456961035728455)\n",
            "('48.187.366', 0.5048828125, 0.9453125, 0.9833984375, 0.16870751976966858)\n",
            "('PAZ1AT', 0.90625, 0.9462890625, 0.96484375, 0.29326772689819336)\n",
            "('A3661', 0.1220703125, 0.9521484375, 0.9794921875, 0.714459240436554)\n",
            "('20p1ata', 0.326171875, 0.953125, 0.9912109375, 0.2724258601665497)\n",
            "('T1AUTET', 0.638671875, 0.9716796875, 0.9921875, 0.034335602074861526)\n"
          ]
        }
      ]
    },
    {
      "cell_type": "code",
      "metadata": {
        "id": "pWNKHU7e4ed0",
        "colab": {
          "base_uri": "https://localhost:8080/"
        },
        "outputId": "07395421-b8b3-4c92-a5ae-478f046c249f"
      },
      "source": [
        "def intersect(ymin1, ymax1, ymin2, ymax2):\n",
        "  return (ymin1 <= ymin2 <= ymax1) or (ymin1 <= ymax2 <= ymax1) or (ymin2 <= ymin1 <= ymax2) or (ymin2 <= ymax1 <= ymax2)\n",
        "\n",
        "skip = []\n",
        "lines = []\n",
        "line = []\n",
        "for s in seeds:\n",
        "  line.append(s)\n",
        "  for w in sorted_words:\n",
        "    if w not in seeds and w not in skip:\n",
        "      if intersect(s[2],s[3], w[2],w[3]):\n",
        "        line.append(w)\n",
        "        skip.append(w)\n",
        "      else:\n",
        "        line.sort(key = lambda x: x[1])\n",
        "        lines.append(line)\n",
        "        line = []\n",
        "        break\n",
        "for line in lines:\n",
        "  print(line)"
      ],
      "execution_count": null,
      "outputs": [
        {
          "output_type": "stream",
          "name": "stdout",
          "text": [
            "[('1.', 0.04296875, 0.21484375, 0.232421875, 0.9957984089851379), ('166', 0.11328125, 0.21484375, 0.2451171875, 0.9622094035148621), ('42', 0.2705078125, 0.2138671875, 0.2431640625, 0.9960918426513672), ('52', 0.392578125, 0.2158203125, 0.23828125, 0.6260141134262085), ('Y', 0.52734375, 0.2177734375, 0.2353515625, 0.8941546678543091)]\n",
            "[('2.', 0.0419921875, 0.240234375, 0.2578125, 0.9951784610748291), ('90', 0.12890625, 0.240234375, 0.263671875, 0.668655514717102), ('44.5', 0.275390625, 0.244140625, 0.2666015625, 0.7759761214256287), ('17', 0.396484375, 0.24609375, 0.2646484375, 0.44712361693382263), ('Y', 0.5283203125, 0.2451171875, 0.26171875, 0.2294389307498932), ('X', 0.900390625, 0.240234375, 0.2607421875, 0.8657704591751099)]\n",
            "[('3.', 0.04296875, 0.265625, 0.283203125, 0.9989524483680725), ('90', 0.130859375, 0.267578125, 0.291015625, 0.4359152317047119), ('42', 0.2724609375, 0.2666015625, 0.29296875, 0.8566473722457886), ('12', 0.3984375, 0.267578125, 0.2900390625, 0.3997229337692261), ('a', 0.916015625, 0.2666015625, 0.2763671875, 0.24539051949977875)]\n",
            "[('4.', 0.0439453125, 0.2919921875, 0.306640625, 0.9944223165512085), ('66', 0.126953125, 0.287109375, 0.3193359375, 0.9921649694442749), ('445', 0.2763671875, 0.291015625, 0.3173828125, 0.4941757619380951), ('8', 0.41796875, 0.2919921875, 0.314453125, 0.9876222610473633)]\n",
            "[('5.', 0.0439453125, 0.3154296875, 0.3330078125, 0.999335527420044), ('66', 0.119140625, 0.3134765625, 0.345703125, 0.9979350566864014), ('42', 0.2724609375, 0.314453125, 0.34375, 0.9921876788139343), ('8', 0.4130859375, 0.3154296875, 0.341796875, 0.9858267903327942)]\n",
            "[('6.', 0.0439453125, 0.3408203125, 0.3583984375, 0.9988734126091003), ('57.4', 0.1220703125, 0.3447265625, 0.3701171875, 0.991435706615448), ('42', 0.2763671875, 0.3408203125, 0.3671875, 0.9836884140968323), ('12', 0.408203125, 0.345703125, 0.3642578125, 0.6891453862190247), ('X', 0.51953125, 0.34765625, 0.361328125, 0.6175989508628845)]\n",
            "[('7.', 0.0439453125, 0.3662109375, 0.3828125, 0.9766151905059814), ('62.4', 0.126953125, 0.3662109375, 0.392578125, 0.8318227529525757), ('42', 0.2802734375, 0.369140625, 0.3916015625, 0.7376596927642822), ('8', 0.4189453125, 0.3671875, 0.3916015625, 0.9559727907180786), ('X', 0.5205078125, 0.369140625, 0.38671875, 0.5840874910354614)]\n",
            "[('8.', 0.044921875, 0.3916015625, 0.4091796875, 0.9980925917625427), ('27.2', 0.125, 0.392578125, 0.41796875, 0.6054080724716187), ('35', 0.2763671875, 0.392578125, 0.4150390625, 0.7963211536407471), ('36', 0.4013671875, 0.3916015625, 0.41796875, 0.9998564720153809), ('Y', 0.5126953125, 0.3955078125, 0.4130859375, 0.6596444845199585)]\n",
            "[('9.', 0.046875, 0.41796875, 0.4326171875, 0.9945285320281982), ('1675', 0.1240234375, 0.4150390625, 0.4443359375, 0.8150911331176758), ('29.5', 0.2744140625, 0.4189453125, 0.4404296875, 0.6198580265045166), ('12', 0.4072265625, 0.41796875, 0.4404296875, 0.6224422454833984)]\n",
            "[('10.', 0.046875, 0.4423828125, 0.4580078125, 0.9993793368339539), ('122.5', 0.1279296875, 0.4453125, 0.4638671875, 0.7004539370536804), ('29.7', 0.26953125, 0.443359375, 0.46875, 0.98531174659729), ('24', 0.400390625, 0.4404296875, 0.466796875, 0.9977994561195374)]\n",
            "[('11.', 0.046875, 0.466796875, 0.4833984375, 0.9845799803733826), ('122.5', 0.12890625, 0.4716796875, 0.490234375, 0.6394423246383667), ('32.7', 0.2724609375, 0.466796875, 0.4912109375, 0.9972919225692749), ('16', 0.40625, 0.4638671875, 0.490234375, 0.933392345905304)]\n",
            "[('12.', 0.0478515625, 0.4921875, 0.5087890625, 0.9986904859542847), ('59.8', 0.1259765625, 0.494140625, 0.5185546875, 0.9596818685531616), ('22', 0.26953125, 0.4931640625, 0.5146484375, 0.3334539830684662), ('24', 0.3974609375, 0.4892578125, 0.5205078125, 0.9584512114524841), ('y', 0.6494140625, 0.494140625, 0.5068359375, 0.7071767449378967)]\n",
            "[('13.', 0.048828125, 0.517578125, 0.533203125, 0.9988172054290771), ('65.6', 0.12890625, 0.515625, 0.541015625, 0.9279436469078064), ('22', 0.27734375, 0.5185546875, 0.5400390625, 0.4843054413795471), ('16', 0.404296875, 0.509765625, 0.5419921875, 0.7553962469100952), ('X', 0.896484375, 0.517578125, 0.5322265625, 0.30630406737327576)]\n",
            "[('14.', 0.048828125, 0.5419921875, 0.55859375, 0.9992821216583252), ('56.5', 0.1171875, 0.54296875, 0.568359375, 0.5865167379379272), ('10', 0.287109375, 0.5458984375, 0.564453125, 0.47476357221603394), ('32', 0.396484375, 0.5419921875, 0.5673828125, 0.9918205738067627), ('.', 0.5302734375, 0.548828125, 0.5595703125, 0.48303350806236267)]\n",
            "[('15.', 0.048828125, 0.5673828125, 0.583984375, 0.968019425868988), ('51.5', 0.1171875, 0.5712890625, 0.5927734375, 0.2691953778266907), ('10', 0.2939453125, 0.572265625, 0.5908203125, 0.6651076078414917), ('48', 0.3935546875, 0.56640625, 0.59375, 0.9996729493141174), ('X', 0.5146484375, 0.5703125, 0.587890625, 0.37636253237724304)]\n",
            "[('16.', 0.0498046875, 0.5927734375, 0.609375, 0.9993955492973328), ('35', 0.1123046875, 0.5927734375, 0.619140625, 0.7655243277549744), ('10', 0.296875, 0.5966796875, 0.6162109375, 0.24761085212230682), ('160', 0.3984375, 0.5908203125, 0.6162109375, 0.9791854619979858), ('Y', 0.5146484375, 0.5947265625, 0.61328125, 0.8577158451080322)]\n",
            "[('17.', 0.0498046875, 0.6181640625, 0.634765625, 0.9986190795898438), ('345', 0.1171875, 0.619140625, 0.6474609375, 0.47538381814956665), ('10', 0.298828125, 0.6201171875, 0.642578125, 0.44259878993034363), ('68', 0.4111328125, 0.6142578125, 0.6416015625, 0.999641478061676)]\n",
            "[('18.', 0.05078125, 0.6435546875, 0.66015625, 0.9991515874862671), ('44', 0.1240234375, 0.640625, 0.67578125, 0.9938321113586426), ('38.5', 0.2919921875, 0.6435546875, 0.666015625, 0.9223816394805908), ('20', 0.404296875, 0.64453125, 0.6640625, 0.6346717476844788), ('y', 0.52734375, 0.646484375, 0.6630859375, 0.4236542582511902)]\n",
            "[('19.', 0.05078125, 0.6689453125, 0.685546875, 0.9988971948623657), ('348', 0.125, 0.6708984375, 0.6962890625, 0.9454131126403809), ('36', 0.294921875, 0.6669921875, 0.69140625, 0.9996548295021057), ('40', 0.4033203125, 0.666015625, 0.6982421875, 0.8380402326583862), ('Y', 0.5234375, 0.6728515625, 0.689453125, 0.6665369868278503)]\n",
            "[('20.', 0.05078125, 0.6943359375, 0.7099609375, 0.9995013475418091), ('40.4', 0.12890625, 0.6962890625, 0.72265625, 0.9606373906135559), ('8', 0.30078125, 0.6953125, 0.720703125, 0.9651709794998169), ('40', 0.4111328125, 0.693359375, 0.720703125, 0.9965317845344543)]\n",
            "[('21.', 0.05078125, 0.7197265625, 0.7353515625, 0.9991887807846069), ('43.6', 0.1240234375, 0.72265625, 0.75, 0.9891138672828674), ('17', 0.2978515625, 0.7197265625, 0.744140625, 0.9894223809242249), ('40', 0.41015625, 0.7197265625, 0.744140625, 0.8970334529876709)]\n",
            "[('22.', 0.0517578125, 0.744140625, 0.7607421875, 0.9977433085441589), ('166', 0.1259765625, 0.7431640625, 0.7724609375, 0.9560238718986511), ('34', 0.2880859375, 0.7431640625, 0.7705078125, 0.9997444748878479), ('8', 0.4228515625, 0.744140625, 0.767578125, 0.9957024455070496), ('Y', 0.5224609375, 0.748046875, 0.7646484375, 0.22286847233772278)]\n",
            "[('23.', 0.0517578125, 0.76953125, 0.78515625, 0.9994413256645203), ('46.4', 0.1357421875, 0.7705078125, 0.8017578125, 0.7765054702758789), ('34', 0.2900390625, 0.76953125, 0.796875, 0.9988038539886475), ('4', 0.419921875, 0.767578125, 0.794921875, 0.9389733076095581), ('.', 0.5283203125, 0.7783203125, 0.7861328125, 0.9958088397979736)]\n",
            "[('24.', 0.052734375, 0.7939453125, 0.810546875, 0.9979117512702942), ('99', 0.13671875, 0.796875, 0.8203125, 0.9941928386688232), ('34', 0.283203125, 0.7939453125, 0.822265625, 0.9966334700584412)]\n",
            "[('25.', 0.0537109375, 0.8193359375, 0.8359375, 0.9622915387153625), ('99', 0.1337890625, 0.8212890625, 0.84765625, 0.5835321545600891), ('36.5', 0.2783203125, 0.818359375, 0.84375, 0.9210332036018372), ('4', 0.4169921875, 0.8203125, 0.83984375, 0.9410772919654846)]\n",
            "[('26.', 0.0537109375, 0.8447265625, 0.8603515625, 0.9991248846054077), ('652', 0.1337890625, 0.8427734375, 0.8681640625, 0.7602855563163757), ('36.5', 0.27734375, 0.8408203125, 0.8662109375, 0.9377893209457397), ('4', 0.4111328125, 0.84375, 0.869140625, 0.986670970916748), ('Y', 0.53515625, 0.8466796875, 0.8642578125, 0.5772573351860046)]\n",
            "[('27.', 0.0537109375, 0.869140625, 0.8857421875, 0.7189121246337891), ('117.8', 0.1357421875, 0.8720703125, 0.896484375, 0.9436372518539429), ('65.2', 0.279296875, 0.865234375, 0.890625, 0.997358500957489), ('4', 0.4111328125, 0.8681640625, 0.892578125, 0.9982600808143616), ('b051u1', 0.5068359375, 0.884765625, 0.9169921875, 0.7521764636039734)]\n"
          ]
        }
      ]
    },
    {
      "cell_type": "code",
      "metadata": {
        "id": "_3HumPxG6Hea"
      },
      "source": [
        "csv_out = open('output.csv', 'w')\n",
        "for line in lines:\n",
        "  for word in line:\n",
        "    csv_out.write(word[0] + ',')\n",
        "  csv_out.write('\\n')\n",
        "csv_out.close()"
      ],
      "execution_count": null,
      "outputs": []
    },
    {
      "cell_type": "code",
      "metadata": {
        "colab": {
          "base_uri": "https://localhost:8080/"
        },
        "id": "Vvzcs-qNSqU_",
        "outputId": "3b3b0919-4539-47dc-b55a-30a951ca6ec3"
      },
      "source": [
        "!pip install xlsxwriter"
      ],
      "execution_count": null,
      "outputs": [
        {
          "output_type": "stream",
          "name": "stdout",
          "text": [
            "Requirement already satisfied: xlsxwriter in /usr/local/lib/python3.7/dist-packages (3.0.2)\n"
          ]
        }
      ]
    },
    {
      "cell_type": "code",
      "metadata": {
        "id": "HCHcpv5YSnTC"
      },
      "source": [
        "from collections import OrderedDict\n",
        "import xlsxwriter\n"
      ],
      "execution_count": null,
      "outputs": []
    },
    {
      "cell_type": "code",
      "metadata": {
        "id": "G4ypkPTvXu5w"
      },
      "source": [
        "# Open an Excel workbook\n",
        "num=0\n",
        "while True:\n",
        "  try:\n",
        "    file=open(\"test\"+str(num)+\".xlsx\",\"r\")\n",
        "    num+=1\n",
        "  except:\n",
        "    break;\n",
        "workbook = xlsxwriter.Workbook('test'+str(num)+'.xlsx')\n",
        "# Create a sheet\n",
        "worksheet = workbook.add_worksheet('Data')\n",
        "\n",
        "\n"
      ],
      "execution_count": null,
      "outputs": []
    },
    {
      "cell_type": "code",
      "metadata": {
        "id": "wIIAOncFX2MX"
      },
      "source": [
        "# Set up a format\n",
        "book_format = workbook.add_format(properties={'bold': True, 'font_color': 'red'})"
      ],
      "execution_count": null,
      "outputs": []
    },
    {
      "cell_type": "code",
      "metadata": {
        "id": "iY3_cQvmX70h"
      },
      "source": [
        "# Save the data from the OrderedDict into the excel sheet\n",
        "for row_num in range(len(lines)):\n",
        "    for col_num in range(len(lines[row_num])):\n",
        "        if lines[row_num][col_num][4] < 0.9:\n",
        "            worksheet.write(row_num, col_num, lines[row_num][col_num][0], book_format)\n",
        "        else:\n",
        "            worksheet.write(row_num, col_num, lines[row_num][col_num][0])\n",
        "\n",
        "# Close the workbook\n",
        "workbook.close()"
      ],
      "execution_count": null,
      "outputs": []
    }
  ]
}